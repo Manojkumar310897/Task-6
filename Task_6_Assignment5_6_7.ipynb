{
  "cells": [
    {
      "cell_type": "markdown",
      "metadata": {
        "id": "view-in-github",
        "colab_type": "text"
      },
      "source": [
        "<a href=\"https://colab.research.google.com/github/Manojkumar310897/Task-6/blob/main/Task_6_Assignment5_6_7.ipynb\" target=\"_parent\"><img src=\"https://colab.research.google.com/assets/colab-badge.svg\" alt=\"Open In Colab\"/></a>"
      ]
    },
    {
      "cell_type": "code",
      "execution_count": null,
      "metadata": {
        "id": "FpxAoOOq1Wqr"
      },
      "outputs": [],
      "source": [
        "import pandas as pd\n",
        "import matplotlib.pyplot as plt\n",
        "import numpy as np\n",
        "from sklearn import linear_model\n",
        "from sklearn.linear_model import LinearRegression\n",
        "import matplotlib.pyplot as plt\n",
        "import itertools as it\n"
      ]
    },
    {
      "cell_type": "markdown",
      "metadata": {
        "id": "hAgxR2MT1Wqt"
      },
      "source": [
        "# Assignment5\n"
      ]
    },
    {
      "cell_type": "markdown",
      "metadata": {
        "id": "Nqn26bNs1Wqw"
      },
      "source": [
        "## Ground Cricket Chirps\n",
        "\n",
        "In _The Song of Insects_ (1948) by George W. Pierce, Pierce mechanically measured the frequency (the number of wing vibrations per second) of chirps (or pulses of sound) made by a striped ground cricket, at various ground temperatures.  Since crickets are ectotherms (cold-blooded), the rate of their physiological processes and their overall metabolism are influenced by temperature.  Consequently, there is reason to believe that temperature would have a profound effect on aspects of their behavior, such as chirp frequency.\n",
        "\n",
        "In general, it was found that crickets did not sing at temperatures colder than 60º F. or warmer than 100º F."
      ]
    },
    {
      "cell_type": "code",
      "execution_count": null,
      "metadata": {
        "id": "WTZi0UqL1Wqy"
      },
      "outputs": [],
      "source": [
        "ground_cricket_data = {\"Chirps/Second\": [20.0, 16.0, 19.8, 18.4, 17.1, 15.5, 14.7,\n",
        "                                         15.7, 15.4, 16.3, 15.0, 17.2, 16.0, 17.0,\n",
        "                                         14.4],\n",
        "                       \"Ground Temperature\": [88.6, 71.6, 93.3, 84.3, 80.6, 75.2, 69.7,\n",
        "                                              71.6, 69.4, 83.3, 79.6, 82.6, 80.6, 83.5,\n",
        "                                              76.3]}\n",
        "df = pd.DataFrame(ground_cricket_data)"
      ]
    },
    {
      "cell_type": "markdown",
      "metadata": {
        "id": "NKsUeA2K1Wqz"
      },
      "source": [
        "### Tasks\n",
        "\n",
        "1. Find the linear regression equation for this data.\n",
        "2. Chart the original data and the equation on the chart.\n",
        "3. Find the equation's $R^2$ score (use the `.score` method) to determine whether the\n",
        "equation is a good fit for this data. (0.8 and greater is considered a strong correlation.)\n",
        "4. Extrapolate data:  If the ground temperature reached 95, then at what approximate rate would you expect the crickets to be chirping?\n",
        "5. Interpolate data:  With a listening device, you discovered that on a particular morning the crickets were chirping at a rate of 18 chirps per second.  What was the approximate ground temperature that morning? "
      ]
    },
    {
      "cell_type": "code",
      "source": [
        "print(df.head)"
      ],
      "metadata": {
        "colab": {
          "base_uri": "https://localhost:8080/"
        },
        "id": "XuuJ85abNkiK",
        "outputId": "b90a1207-7206-4f11-cdb6-ac0ceb473989"
      },
      "execution_count": null,
      "outputs": [
        {
          "output_type": "stream",
          "name": "stdout",
          "text": [
            "<bound method NDFrame.head of     Chirps/Second  Ground Temperature\n",
            "0            20.0                88.6\n",
            "1            16.0                71.6\n",
            "2            19.8                93.3\n",
            "3            18.4                84.3\n",
            "4            17.1                80.6\n",
            "5            15.5                75.2\n",
            "6            14.7                69.7\n",
            "7            15.7                71.6\n",
            "8            15.4                69.4\n",
            "9            16.3                83.3\n",
            "10           15.0                79.6\n",
            "11           17.2                82.6\n",
            "12           16.0                80.6\n",
            "13           17.0                83.5\n",
            "14           14.4                76.3>\n"
          ]
        }
      ]
    },
    {
      "cell_type": "code",
      "source": [
        "regr_gc = linear_model.LinearRegression()\n",
        "ground_temp = df[['Ground Temperature']]\n",
        "chirps_sec = df['Chirps/Second']\n",
        "regr_gc.fit(ground_temp, chirps_sec)"
      ],
      "metadata": {
        "id": "cAgKQNG3DgJ5",
        "colab": {
          "base_uri": "https://localhost:8080/"
        },
        "outputId": "a2fdb356-d168-478d-b9c7-8a08c107e533"
      },
      "execution_count": null,
      "outputs": [
        {
          "output_type": "execute_result",
          "data": {
            "text/plain": [
              "LinearRegression()"
            ]
          },
          "metadata": {},
          "execution_count": 32
        }
      ]
    },
    {
      "cell_type": "markdown",
      "source": [
        "**1.LinearRegression** **Equation**"
      ],
      "metadata": {
        "id": "fQoR1o40hHOX"
      }
    },
    {
      "cell_type": "code",
      "source": [
        "print('Linear Regression Equation: y = {:.4f} * x + {:.4f}'\n",
        "      .format(regr_gc.coef_[0], regr_gc.intercept_))"
      ],
      "metadata": {
        "colab": {
          "base_uri": "https://localhost:8080/"
        },
        "id": "s-2EmyTkg8EK",
        "outputId": "31b351ae-6991-451d-f074-633b6880ca27"
      },
      "execution_count": null,
      "outputs": [
        {
          "output_type": "stream",
          "name": "stdout",
          "text": [
            "Linear Regression Equation: y = 0.2030 * x + 0.4593\n"
          ]
        }
      ]
    },
    {
      "cell_type": "markdown",
      "source": [
        "2**.Plotting original data and the equation on the chart**."
      ],
      "metadata": {
        "id": "7O8P6nuFhX0m"
      }
    },
    {
      "cell_type": "code",
      "source": [
        "plt.scatter(ground_temp, chirps_sec, color='r')\n",
        "plt.plot(ground_temp, regr_gc.predict(ground_temp))\n",
        "plt.title('Ground Cricket Chirps/Sec by Ground Temperature')\n",
        "plt.xlabel('Ground Temp (˚F)')\n",
        "plt.ylabel('Chirps/Sec')\n",
        "plt.show()"
      ],
      "metadata": {
        "colab": {
          "base_uri": "https://localhost:8080/",
          "height": 296
        },
        "id": "1KA-1GXphREy",
        "outputId": "a938da9c-2af7-4017-9cce-0c5728de5cf7"
      },
      "execution_count": null,
      "outputs": [
        {
          "output_type": "display_data",
          "data": {
            "text/plain": [
              "<Figure size 432x288 with 1 Axes>"
            ],
            "image/png": "[encoded data removed]"
          },
          "metadata": {
            "needs_background": "light"
          }
        }
      ]
    },
    {
      "cell_type": "markdown",
      "source": [
        "3.**Finding** **the equation's  R2  score** "
      ],
      "metadata": {
        "id": "XRwuE6nRi6Nt"
      }
    },
    {
      "cell_type": "code",
      "source": [
        "print('R^2 score for this equation: {:.4f}'\n",
        "      .format(regr_gc.score(ground_temp, chirps_sec)))"
      ],
      "metadata": {
        "colab": {
          "base_uri": "https://localhost:8080/"
        },
        "id": "AQrmI2ypi54V",
        "outputId": "c68cde65-b121-415d-e71d-947e5697fd3a"
      },
      "execution_count": null,
      "outputs": [
        {
          "output_type": "stream",
          "name": "stdout",
          "text": [
            "R^2 score for this equation: 0.6923\n"
          ]
        }
      ]
    },
    {
      "cell_type": "markdown",
      "source": [
        "**Because this is below 0.8, this is not a good fit for this data.**"
      ],
      "metadata": {
        "id": "UteMDjbJrY-P"
      }
    },
    {
      "cell_type": "markdown",
      "source": [
        "4.**Extrapolate** "
      ],
      "metadata": {
        "id": "iUx7VIfokzLG"
      }
    },
    {
      "cell_type": "code",
      "source": [
        "t=regr_gc.predict([[95]])\n",
        "print('At 95˚F, our approximation of chirps/sec is:',t)"
      ],
      "metadata": {
        "colab": {
          "base_uri": "https://localhost:8080/"
        },
        "id": "kSL5AOjPk-fT",
        "outputId": "2c453c09-f507-43a0-b316-4e858537ae95"
      },
      "execution_count": null,
      "outputs": [
        {
          "output_type": "stream",
          "name": "stdout",
          "text": [
            "At 95˚F, our approximation of chirps/sec is: [19.74428913]\n"
          ]
        },
        {
          "output_type": "stream",
          "name": "stderr",
          "text": [
            "/usr/local/lib/python3.8/dist-packages/sklearn/base.py:450: UserWarning: X does not have valid feature names, but LinearRegression was fitted with feature names\n",
            "  warnings.warn(\n"
          ]
        }
      ]
    },
    {
      "cell_type": "markdown",
      "source": [
        "5.**Intrapolate**\n",
        "\n",
        "y = m * x + b\n",
        "\n",
        "y - b = m * x\n",
        "\n",
        "(y - b) / m = x\n",
        "\n",
        "x = (y - b) / m"
      ],
      "metadata": {
        "id": "FAbarrFKqbNv"
      }
    },
    {
      "cell_type": "code",
      "source": [
        "def chirps_to_temp(y):\n",
        "    ret = (y - regr_gc.intercept_) / regr_gc.coef_[0]\n",
        "    print('With an observation of {} chirps/sec, '\n",
        "          'we expect a ground temp of {:.2f}˚F'.format(y, ret))"
      ],
      "metadata": {
        "id": "1qr4_E0yqcrG"
      },
      "execution_count": null,
      "outputs": []
    },
    {
      "cell_type": "code",
      "source": [
        "chirps_to_temp(18)"
      ],
      "metadata": {
        "colab": {
          "base_uri": "https://localhost:8080/"
        },
        "id": "8y_cbEb_qjou",
        "outputId": "354c84c9-26cf-437c-8d1e-158afd375096"
      },
      "execution_count": null,
      "outputs": [
        {
          "output_type": "stream",
          "name": "stdout",
          "text": [
            "With an observation of 18 chirps/sec, we expect a ground temp of 86.41˚F\n"
          ]
        }
      ]
    },
    {
      "cell_type": "markdown",
      "metadata": {
        "id": "oGf1bSMK1Wq0"
      },
      "source": [
        "# Assignment6"
      ]
    },
    {
      "cell_type": "markdown",
      "metadata": {
        "id": "7Y8Mkhbh1Wq1"
      },
      "source": [
        "## Brain vs. Body Weight\n",
        "\n",
        "In the file `brain_body.txt`, the average brain and body weight for a number of mammal species are recorded. Load this data into a Pandas data frame.\n",
        "\n",
        "### Tasks\n",
        "\n",
        "1. Find the linear regression equation for this data for brain weight to body weight.\n",
        "2. Chart the original data and the equation on the chart.\n",
        "3. Find the equation's $R^2$ score (use the `.score` method) to determine whether the\n",
        "equation is a good fit for this data. (0.8 and greater is considered a strong correlation.)"
      ]
    },
    {
      "cell_type": "code",
      "source": [
        "from google.colab import drive\n",
        "drive.mount('/content/drive')"
      ],
      "metadata": {
        "colab": {
          "base_uri": "https://localhost:8080/"
        },
        "id": "TI_hqwc4EYFP",
        "outputId": "8fb7b904-2907-4cf4-c1c3-371ac627ad9d"
      },
      "execution_count": null,
      "outputs": [
        {
          "output_type": "stream",
          "name": "stdout",
          "text": [
            "Mounted at /content/drive\n"
          ]
        }
      ]
    },
    {
      "cell_type": "code",
      "execution_count": null,
      "metadata": {
        "id": "sYZEqdNe1Wq2"
      },
      "outputs": [],
      "source": [
        "df_bb = pd.read_fwf(\"/content/drive/MyDrive/Colab Notebooks/brain_body.txt\")"
      ]
    },
    {
      "cell_type": "code",
      "source": [
        "regr_bb = linear_model.LinearRegression()\n",
        "body = df_bb[['Body']]\n",
        "brain = df_bb['Brain']\n",
        "regr_bb.fit(body, brain)"
      ],
      "metadata": {
        "colab": {
          "base_uri": "https://localhost:8080/"
        },
        "id": "LlLa61juuu6k",
        "outputId": "6421ef29-c65b-4247-89d2-cb4029bea8fb"
      },
      "execution_count": null,
      "outputs": [
        {
          "output_type": "execute_result",
          "data": {
            "text/plain": [
              "LinearRegression()"
            ]
          },
          "metadata": {},
          "execution_count": 41
        }
      ]
    },
    {
      "cell_type": "markdown",
      "source": [
        "1.**Finding linear** **regression **equation**"
      ],
      "metadata": {
        "id": "8B_MCEy7u-MA"
      }
    },
    {
      "cell_type": "code",
      "source": [
        "print('Linear Regression Equation: y = {:.4f} * x + {:.4f}'\n",
        "      .format(regr_bb.coef_[0], regr_bb.intercept_))"
      ],
      "metadata": {
        "colab": {
          "base_uri": "https://localhost:8080/"
        },
        "id": "KgWttf-tu94y",
        "outputId": "f77d7158-d835-4cc9-ac12-d37ee8290bf8"
      },
      "execution_count": null,
      "outputs": [
        {
          "output_type": "stream",
          "name": "stdout",
          "text": [
            "Linear Regression Equation: y = 0.9029 * x + -56.8555\n"
          ]
        }
      ]
    },
    {
      "cell_type": "markdown",
      "source": [
        "2.**Plotting the original data**"
      ],
      "metadata": {
        "id": "f01yOMBQvfhy"
      }
    },
    {
      "cell_type": "code",
      "source": [
        "plt.scatter(body, brain, color='m')\n",
        "plt.plot(body, regr_bb.predict(body))\n",
        "plt.title('Brain Weight by Body Weight')\n",
        "plt.xlabel('Body Weight')\n",
        "plt.ylabel('Brain Weight')\n",
        "plt.show()"
      ],
      "metadata": {
        "colab": {
          "base_uri": "https://localhost:8080/",
          "height": 295
        },
        "id": "Q5wBcXSyvfKb",
        "outputId": "6ef2f6a4-e2dc-42e5-c622-a7035fb2491c"
      },
      "execution_count": null,
      "outputs": [
        {
          "output_type": "display_data",
          "data": {
            "text/plain": [
              "<Figure size 432x288 with 1 Axes>"
            ],
            "image/png": "[encoded data removed]"
          },
          "metadata": {
            "needs_background": "light"
          }
        }
      ]
    },
    {
      "cell_type": "code",
      "source": [
        "print('R^2 score for this equation: {:.4f}'\n",
        "      .format(regr_bb.score(body, brain)))"
      ],
      "metadata": {
        "colab": {
          "base_uri": "https://localhost:8080/"
        },
        "id": "cgitoit1vy7M",
        "outputId": "d85f0b5c-eaeb-4d45-f074-3c4ef6d92a58"
      },
      "execution_count": null,
      "outputs": [
        {
          "output_type": "stream",
          "name": "stdout",
          "text": [
            "R^2 score for this equation: 0.8727\n"
          ]
        }
      ]
    },
    {
      "cell_type": "markdown",
      "source": [
        "**This score is greater than 0.8, so it is a good fit for this data.**"
      ],
      "metadata": {
        "id": "X6Mq3b7lv3ho"
      }
    },
    {
      "cell_type": "markdown",
      "metadata": {
        "id": "uo9aljXo1Wq4"
      },
      "source": [
        "# Assignment7"
      ]
    },
    {
      "cell_type": "markdown",
      "metadata": {
        "id": "q7eNz_Tl1Wq5"
      },
      "source": [
        "## Salary Discrimination\n",
        "\n",
        "The file `salary.txt` contains data for 52 tenure-track professors at a small Midwestern college. This data was used in legal proceedings in the 1980s about discrimination against women in salary.\n",
        "\n",
        "The data in the file, by column:\n",
        "\n",
        "1. Sex. 1 for female, 0 for male.\n",
        "2. Rank. 1 for assistant professor, 2 for associate professor, 3 for full professor.\n",
        "3. Year. Number of years in current rank.\n",
        "4. Degree. Highest degree. 1 for doctorate, 0 for master's.\n",
        "5. YSdeg. Years since highest degree was earned.\n",
        "6. Salary. Salary/year in dollars.\n",
        "\n",
        "### Tasks\n",
        "\n",
        "1. Find the linear regression equation for this data using columns 1-5 to column 6.\n",
        "2. Find the selection of columns with the best $R^2$ score.\n",
        "3. Report whether sex is a factor in salary."
      ]
    },
    {
      "cell_type": "code",
      "execution_count": null,
      "metadata": {
        "id": "u6GLIeyQ1Wq5"
      },
      "outputs": [],
      "source": [
        "df = pd.read_fwf(\"/content/drive/MyDrive/Colab Notebooks/salary.txt\", header=None, \n",
        "                 names=[\"Sex\", \"Rank\", \"Year\", \"Degree\", \"YSdeg\", \"Salary\"])"
      ]
    },
    {
      "cell_type": "code",
      "source": [
        "salary_discrim_cols = ['Sex', 'Rank', 'Year', 'Degree', 'YSdeg']"
      ],
      "metadata": {
        "id": "0PwcSt2s2yKz"
      },
      "execution_count": null,
      "outputs": []
    },
    {
      "cell_type": "markdown",
      "source": [
        "1.**Linear Regression for the columns**"
      ],
      "metadata": {
        "id": "BLPImZ-l3dbL"
      }
    },
    {
      "cell_type": "code",
      "source": [
        "def lin_reg_eq_print(salary_discrim_cols, df):\n",
        "    input_cols = df[salary_discrim_cols]\n",
        "    salary = df['Salary']\n",
        "    regr_sd = linear_model.LinearRegression()\n",
        "    regr_sd.fit(input_cols, salary)\n",
        "    print('The equation for columns {} with respect to Salary:\\n'\n",
        "          '{} + {}'.format(salary_discrim_cols, regr_sd.coef_, regr_sd.intercept_))"
      ],
      "metadata": {
        "id": "f7EQymlQ24lB"
      },
      "execution_count": null,
      "outputs": []
    },
    {
      "cell_type": "code",
      "source": [
        "lin_reg_eq_print(salary_discrim_cols, df)"
      ],
      "metadata": {
        "colab": {
          "base_uri": "https://localhost:8080/"
        },
        "id": "FqkGF4hx3zab",
        "outputId": "c0908cf3-3c09-4a70-ce6f-77c3d5715814"
      },
      "execution_count": null,
      "outputs": [
        {
          "output_type": "stream",
          "name": "stdout",
          "text": [
            "The equation for columns ['Sex', 'Rank', 'Year', 'Degree', 'YSdeg'] with respect to Salary:\n",
            "[ 1241.7924996   5586.18144952   482.85976783 -1331.64406341\n",
            "  -128.79057354] + 11410.14654725559\n"
          ]
        }
      ]
    },
    {
      "cell_type": "markdown",
      "source": [
        "2**.Finding the selection of columns with the best  R2  score.**"
      ],
      "metadata": {
        "id": "sxNdz_4M36mD"
      }
    },
    {
      "cell_type": "code",
      "source": [
        "def lin_reg_wrt_focus(salary_discrim_cols, df, focus='Salary'):\n",
        "    input_cols = df[salary_discrim_cols]\n",
        "    focus_output = df[focus]\n",
        "    regr_sd = linear_model.LinearRegression()\n",
        "    regr_sd.fit(input_cols, focus_output)\n",
        "    return regr_sd.score(input_cols, focus_output)"
      ],
      "metadata": {
        "id": "48tAlzbM34lJ"
      },
      "execution_count": null,
      "outputs": []
    },
    {
      "cell_type": "code",
      "source": [
        "print('R^2 score for equation using all columns: {}'\n",
        "      .format(lin_reg_wrt_focus(salary_discrim_cols, df)))"
      ],
      "metadata": {
        "colab": {
          "base_uri": "https://localhost:8080/"
        },
        "id": "sSYGm_k95CjL",
        "outputId": "678ccd0e-d2ab-4016-8fa6-2f0c10a9227b"
      },
      "execution_count": null,
      "outputs": [
        {
          "output_type": "stream",
          "name": "stdout",
          "text": [
            "R^2 score for equation using all columns: 0.8547180674410969\n"
          ]
        }
      ]
    },
    {
      "cell_type": "code",
      "source": [
        "import itertools as it"
      ],
      "metadata": {
        "id": "z1iaRImh5UWq"
      },
      "execution_count": null,
      "outputs": []
    },
    {
      "cell_type": "code",
      "source": [
        "def get_combos(cols):\n",
        "    return [it.combinations(cols, n + 1) for n in range(len(cols))]"
      ],
      "metadata": {
        "id": "jJX1pYTd5OQQ"
      },
      "execution_count": null,
      "outputs": []
    },
    {
      "cell_type": "code",
      "source": [
        "combos = get_combos(salary_discrim_cols)"
      ],
      "metadata": {
        "id": "AkdnBzpy6QID"
      },
      "execution_count": null,
      "outputs": []
    },
    {
      "cell_type": "code",
      "source": [
        "def all_combo_scores(combos, df, focus='Salary'):\n",
        "    combo_scores = {}\n",
        "    for m in range(len(list(combos))):\n",
        "        for n in list(combos[m]):\n",
        "            combo_scores[lin_reg_wrt_focus(list(n), df, focus)] = n\n",
        "    return combo_scores"
      ],
      "metadata": {
        "id": "NRQB97sQ6STC"
      },
      "execution_count": null,
      "outputs": []
    },
    {
      "cell_type": "code",
      "source": [
        "combo_scores = all_combo_scores(combos, df)\n",
        "sorted(combo_scores.items(), key=lambda c: c[0], reverse=True)"
      ],
      "metadata": {
        "colab": {
          "base_uri": "https://localhost:8080/"
        },
        "id": "Bo_HBptX6Uqw",
        "outputId": "7e4ffd8d-765a-46cd-cb5b-1fc01981b32b"
      },
      "execution_count": null,
      "outputs": [
        {
          "output_type": "execute_result",
          "data": {
            "text/plain": [
              "[(0.8547180674410969, ('Sex', 'Rank', 'Year', 'Degree', 'YSdeg')),\n",
              " (0.8490366192262851, ('Sex', 'Rank', 'Year', 'YSdeg')),\n",
              " (0.8485077204335426, ('Rank', 'Year', 'Degree', 'YSdeg')),\n",
              " (0.8456725764485596, ('Rank', 'Year', 'YSdeg')),\n",
              " (0.845547641297936, ('Sex', 'Rank', 'Year', 'Degree')),\n",
              " (0.8454319861987166, ('Sex', 'Rank', 'Year')),\n",
              " (0.8437395200874137, ('Rank', 'Year', 'Degree')),\n",
              " (0.8436480933264597, ('Rank', 'Year')),\n",
              " (0.7671813414350668, ('Sex', 'Rank', 'Degree', 'YSdeg')),\n",
              " (0.7666122610227071, ('Sex', 'Rank', 'YSdeg')),\n",
              " (0.7625149185326454, ('Rank', 'Degree', 'YSdeg')),\n",
              " (0.7623948189698249, ('Rank', 'YSdeg')),\n",
              " (0.7583144768153613, ('Sex', 'Rank', 'Degree')),\n",
              " (0.7557961688386643, ('Rank', 'Degree')),\n",
              " (0.7554917749443394, ('Sex', 'Rank')),\n",
              " (0.7525360539274633, ('Rank',)),\n",
              " (0.6311597502907436, ('Sex', 'Year', 'Degree', 'YSdeg')),\n",
              " (0.6236261611533503, ('Year', 'Degree', 'YSdeg')),\n",
              " (0.5832708257660315, ('Sex', 'Degree', 'YSdeg')),\n",
              " (0.5808063918180405, ('Sex', 'Year', 'YSdeg')),\n",
              " (0.5782019226431887, ('Year', 'YSdeg')),\n",
              " (0.5409662288237875, ('Degree', 'YSdeg')),\n",
              " (0.4930479271966782, ('Sex', 'YSdeg')),\n",
              " (0.49207944757472966, ('Sex', 'Year', 'Degree')),\n",
              " (0.4919014149016441, ('Year', 'Degree')),\n",
              " (0.4911360941886388, ('Sex', 'Year')),\n",
              " (0.49093702676921624, ('Year',)),\n",
              " (0.45542813458360276, ('YSdeg',)),\n",
              " (0.06643739842018881, ('Sex', 'Degree')),\n",
              " (0.06389892583288004, ('Sex',)),\n",
              " (0.004861680984748373, ('Degree',))]"
            ]
          },
          "metadata": {},
          "execution_count": 55
        }
      ]
    },
    {
      "cell_type": "markdown",
      "source": [
        "**Conclusion:**\n",
        "The selection with the best \n",
        " score is: Sex, Rank, Year, Degree, YSdeg: 0.85471806744109691 (as seen above)\n",
        "\n",
        "However, although including all of the columns produces the highest \n",
        " score, there are two dominant factors: Year and Rank. Just these two factors taken together have a score of 0.84364809332645985."
      ],
      "metadata": {
        "id": "lhS9fR6D6hNE"
      }
    },
    {
      "cell_type": "markdown",
      "source": [
        "**3.Report whether sex is a factor in salary.**"
      ],
      "metadata": {
        "id": "dCY7zuaH6tTH"
      }
    },
    {
      "cell_type": "markdown",
      "source": [
        "It is worth noting that Sex on its own has a score very close to zero (0.063898925832880038), indicating that it has no direct influence on salary"
      ],
      "metadata": {
        "id": "DCECLqYC-igX"
      }
    },
    {
      "cell_type": "code",
      "source": [
        "num_by_sex = df.Sex.value_counts()\n",
        "print('No of men: {}\\nNo of women: {}'.format(num_by_sex[0], num_by_sex[1]))"
      ],
      "metadata": {
        "colab": {
          "base_uri": "https://localhost:8080/"
        },
        "id": "l8QYFqm_6j3_",
        "outputId": "c0fc80cd-9a45-4df8-f294-880676ac1e58"
      },
      "execution_count": null,
      "outputs": [
        {
          "output_type": "stream",
          "name": "stdout",
          "text": [
            "No of men: 38\n",
            "No of women: 14\n"
          ]
        }
      ]
    },
    {
      "cell_type": "code",
      "source": [
        "df.pivot_table(index=df.index, columns='Sex', values='Salary') \\\n",
        "    .plot(kind='hist', alpha=0.7, stacked=True, bins=20, title='Salary by Sex')\n",
        "plt.xlabel('Dollars')\n",
        "plt.ylabel('Faculty')\n",
        "plt.show()"
      ],
      "metadata": {
        "colab": {
          "base_uri": "https://localhost:8080/",
          "height": 295
        },
        "id": "IVZnvxUz8JXF",
        "outputId": "06a9cac4-04d8-44a5-efe5-6c82c54fcf1b"
      },
      "execution_count": null,
      "outputs": [
        {
          "output_type": "display_data",
          "data": {
            "text/plain": [
              "<Figure size 432x288 with 1 Axes>"
            ],
            "image/png": "[encoded data removed]"
          },
          "metadata": {
            "needs_background": "light"
          }
        }
      ]
    },
    {
      "cell_type": "code",
      "source": [
        "df.pivot_table(index=df.index, columns='Sex', values='Rank') \\\n",
        "    .plot(kind='hist', alpha=0.7, stacked=True, title='Rank by Sex')\n",
        "plt.xticks([1, 2, 3])\n",
        "plt.xlabel('Rank')\n",
        "plt.ylabel('Faculty')\n",
        "plt.show()\n"
      ],
      "metadata": {
        "colab": {
          "base_uri": "https://localhost:8080/",
          "height": 295
        },
        "id": "-7yT1pHZ8X7j",
        "outputId": "3e53b8da-c6bf-4545-afbd-95885dbff060"
      },
      "execution_count": null,
      "outputs": [
        {
          "output_type": "display_data",
          "data": {
            "text/plain": [
              "<Figure size 432x288 with 1 Axes>"
            ],
            "image/png": "[encoded data removed]"
          },
          "metadata": {
            "needs_background": "light"
          }
        }
      ]
    },
    {
      "cell_type": "code",
      "source": [
        "df.pivot_table(index=df.index, columns='Sex', values='Year') \\\n",
        "    .plot(kind='hist', alpha=0.7, stacked=True, bins=12,\n",
        "          title='Years in Rank by Sex')\n",
        "plt.xlabel('Years')\n",
        "plt.ylabel('Faculty')\n",
        "plt.show()"
      ],
      "metadata": {
        "colab": {
          "base_uri": "https://localhost:8080/",
          "height": 295
        },
        "id": "OUJtVvgg8muG",
        "outputId": "f658aa78-a0a7-4d90-8646-fddf4cdcf382"
      },
      "execution_count": null,
      "outputs": [
        {
          "output_type": "display_data",
          "data": {
            "text/plain": [
              "<Figure size 432x288 with 1 Axes>"
            ],
            "image/png": "[encoded data removed]"
          },
          "metadata": {
            "needs_background": "light"
          }
        }
      ]
    },
    {
      "cell_type": "markdown",
      "source": [
        "The women at this university have only been at their present rank for at most 10 years; let's compare with the men who have a similar number of years."
      ],
      "metadata": {
        "id": "oTT0vAya-UXX"
      }
    },
    {
      "cell_type": "markdown",
      "source": [
        "**Comparing Men and Women with Similar Number of Years**"
      ],
      "metadata": {
        "id": "Qzm2EIla82j8"
      }
    },
    {
      "cell_type": "code",
      "source": [
        "df_10 = df[df['Year'] <= 10]"
      ],
      "metadata": {
        "id": "J9g6dQfV84Xm"
      },
      "execution_count": null,
      "outputs": []
    },
    {
      "cell_type": "code",
      "source": [
        "combos_10 = get_combos(salary_discrim_cols)\n",
        "combo_10_scores = all_combo_scores(combos_10, df_10)\n",
        "sorted(combo_10_scores.items(), key=lambda c: c[0], reverse=True)"
      ],
      "metadata": {
        "colab": {
          "base_uri": "https://localhost:8080/"
        },
        "id": "wPMtiMxw939k",
        "outputId": "5845b65d-783f-40f7-ca44-85ddda96dc7f"
      },
      "execution_count": null,
      "outputs": [
        {
          "output_type": "execute_result",
          "data": {
            "text/plain": [
              "[(0.7968248819660304, ('Sex', 'Rank', 'Year', 'Degree', 'YSdeg')),\n",
              " (0.7872092866034841, ('Sex', 'Rank', 'Year', 'YSdeg')),\n",
              " (0.7857914167129874, ('Rank', 'Year', 'Degree', 'YSdeg')),\n",
              " (0.7812953737007232, ('Rank', 'Year', 'YSdeg')),\n",
              " (0.7811304025138202, ('Sex', 'Rank', 'Year', 'Degree')),\n",
              " (0.7809344717080977, ('Sex', 'Rank', 'Year')),\n",
              " (0.7783076155381674, ('Rank', 'Year', 'Degree')),\n",
              " (0.778125545829645, ('Rank', 'Year')),\n",
              " (0.7267866959953191, ('Sex', 'Rank', 'Degree', 'YSdeg')),\n",
              " (0.7266289950954575, ('Sex', 'Rank', 'Degree')),\n",
              " (0.7263171650507368, ('Rank', 'Degree', 'YSdeg')),\n",
              " (0.7262952984826756, ('Rank', 'Degree')),\n",
              " (0.7237917566538923, ('Sex', 'Rank', 'YSdeg')),\n",
              " (0.7237599305119999, ('Rank', 'YSdeg')),\n",
              " (0.7224004990910746, ('Sex', 'Rank')),\n",
              " (0.7221603677648399, ('Rank',)),\n",
              " (0.5211388967522836, ('Sex', 'Year', 'Degree', 'YSdeg')),\n",
              " (0.5106317178170396, ('Year', 'Degree', 'YSdeg')),\n",
              " (0.47582422204482044, ('Sex', 'Degree', 'YSdeg')),\n",
              " (0.46515893607776626, ('Sex', 'Year', 'YSdeg')),\n",
              " (0.46069130390981783, ('Year', 'YSdeg')),\n",
              " (0.4448739733320236, ('Degree', 'YSdeg')),\n",
              " (0.4042796870122093, ('Sex', 'YSdeg')),\n",
              " (0.38329194186217797, ('YSdeg',)),\n",
              " (0.3261084635012448, ('Sex', 'Year', 'Degree')),\n",
              " (0.325988256704955, ('Sex', 'Year')),\n",
              " (0.32547258856854433, ('Year', 'Degree')),\n",
              " (0.32534791979498534, ('Year',)),\n",
              " (0.019252695844517165, ('Sex', 'Degree')),\n",
              " (0.01327225187005543, ('Degree',)),\n",
              " (0.006877700561349731, ('Sex',))]"
            ]
          },
          "metadata": {},
          "execution_count": 61
        }
      ]
    },
    {
      "cell_type": "markdown",
      "source": [
        "**Conclusion**:\n",
        "Even looking at the influencers of Rank, looking only at those who have been at their present rank for 10 years or less, there is no correlation with Sex. There is no salary discrimination by Sex."
      ],
      "metadata": {
        "id": "9FP6Zool-G3W"
      }
    }
  ],
  "metadata": {
    "kernelspec": {
      "display_name": "Python 3",
      "language": "python",
      "name": "python3"
    },
    "language_info": {
      "codemirror_mode": {
        "name": "ipython",
        "version": 3
      },
      "file_extension": ".py",
      "mimetype": "text/x-python",
      "name": "python",
      "nbconvert_exporter": "python",
      "pygments_lexer": "ipython3",
      "version": "3.8.3"
    },
    "colab": {
      "provenance": [],
      "include_colab_link": true
    }
  },
  "nbformat": 4,
  "nbformat_minor": 0
}