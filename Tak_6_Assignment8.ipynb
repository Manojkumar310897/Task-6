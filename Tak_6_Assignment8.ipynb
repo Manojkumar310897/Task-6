{
  "cells": [
    {
      "cell_type": "markdown",
      "metadata": {
        "id": "view-in-github",
        "colab_type": "text"
      },
      "source": [
        "<a href=\"https://colab.research.google.com/github/Manojkumar310897/Task-6/blob/main/Tak_6_Assignment8.ipynb\" target=\"_parent\"><img src=\"https://colab.research.google.com/assets/colab-badge.svg\" alt=\"Open In Colab\"/></a>"
      ]
    },
    {
      "cell_type": "markdown",
      "metadata": {
        "id": "ZpFMpqme1XpM"
      },
      "source": [
        "# Assignment8"
      ]
    },
    {
      "cell_type": "code",
      "execution_count": 42,
      "metadata": {
        "collapsed": true,
        "id": "BngKFDd81XpP"
      },
      "outputs": [],
      "source": [
        "import pandas as pd\n",
        "import matplotlib.pyplot as plt\n",
        "import numpy as np\n",
        "from sklearn import linear_model"
      ]
    },
    {
      "cell_type": "markdown",
      "metadata": {
        "id": "OBHbnXKt1XpR"
      },
      "source": [
        "# How Much is Your Car Worth?\n",
        "\n",
        "Data about the retail price of 2005 General Motors cars can be found in `car_data.csv`.\n",
        "\n",
        "The columns are:\n",
        "\n",
        "1. Price: suggested retail price of the used 2005 GM car in excellent condition.\n",
        "2. Mileage: number of miles the car has been driven\n",
        "3. Make: manufacturer of the car such as Saturn, Pontiac, and Chevrolet\n",
        "4. Model: specific models for each car manufacturer such as Ion, Vibe, Cavalier\n",
        "5. Trim (of car): specific type of car model such as SE Sedan 4D, Quad Coupe 2D          \n",
        "6. Type: body type such as sedan, coupe, etc.      \n",
        "7. Cylinder: number of cylinders in the engine        \n",
        "8. Liter: a more specific measure of engine size     \n",
        "9. Doors: number of doors           \n",
        "10. Cruise: indicator variable representing whether the car has cruise control (1 = cruise)\n",
        "11. Sound: indicator variable representing whether the car has upgraded speakers (1 = upgraded)\n",
        "12. Leather: indicator variable representing whether the car has leather seats (1 = leather)\n",
        "\n",
        "## Tasks, Part 1\n",
        "\n",
        "1. Find the linear regression equation for mileage vs price.\n",
        "2. Chart the original data and the equation on the chart.\n",
        "3. Find the equation's $R^2$ score (use the `.score` method) to determine whether the\n",
        "equation is a good fit for this data. (0.8 and greater is considered a strong correlation.)\n",
        "\n",
        "## Tasks, Part 2\n",
        "\n",
        "1. Use mileage, cylinders, liters, doors, cruise, sound, and leather to find the linear regression equation.\n",
        "2. Find the equation's $R^2$ score (use the `.score` method) to determine whether the\n",
        "equation is a good fit for this data. (0.8 and greater is considered a strong correlation.)\n",
        "3. Find the combination of the factors that is the best predictor for price.\n",
        "\n",
        "## Tasks, Hard Mode\n",
        "\n",
        "1. Research dummy variables in scikit-learn to see how to use the make, model, and body type.\n",
        "2. Find the best combination of factors to predict price."
      ]
    },
    {
      "cell_type": "code",
      "source": [
        "from google.colab import drive\n",
        "drive.mount('/content/drive')"
      ],
      "metadata": {
        "colab": {
          "base_uri": "https://localhost:8080/"
        },
        "id": "Pvr9WfEpIb5q",
        "outputId": "c1104733-f415-4002-bb09-9342ef833fab"
      },
      "execution_count": 43,
      "outputs": [
        {
          "output_type": "stream",
          "name": "stdout",
          "text": [
            "Drive already mounted at /content/drive; to attempt to forcibly remount, call drive.mount(\"/content/drive\", force_remount=True).\n"
          ]
        }
      ]
    },
    {
      "cell_type": "code",
      "source": [
        "df = pd.read_csv(\"/content/drive/MyDrive/Colab Notebooks/car_data.csv\")"
      ],
      "metadata": {
        "id": "KOEW0bAIIbxx"
      },
      "execution_count": 44,
      "outputs": []
    },
    {
      "cell_type": "code",
      "source": [
        "df.head()"
      ],
      "metadata": {
        "colab": {
          "base_uri": "https://localhost:8080/",
          "height": 206
        },
        "id": "7IdULG5BImdR",
        "outputId": "7853ea7a-c372-4c56-f239-9115a8dc447d"
      },
      "execution_count": 45,
      "outputs": [
        {
          "output_type": "execute_result",
          "data": {
            "text/plain": [
              "          Price  Mileage   Make    Model      Trim   Type  Cylinder  Liter  \\\n",
              "0  17314.103129     8221  Buick  Century  Sedan 4D  Sedan         6    3.1   \n",
              "1  17542.036083     9135  Buick  Century  Sedan 4D  Sedan         6    3.1   \n",
              "2  16218.847862    13196  Buick  Century  Sedan 4D  Sedan         6    3.1   \n",
              "3  16336.913140    16342  Buick  Century  Sedan 4D  Sedan         6    3.1   \n",
              "4  16339.170324    19832  Buick  Century  Sedan 4D  Sedan         6    3.1   \n",
              "\n",
              "   Doors  Cruise  Sound  Leather  \n",
              "0      4       1      1        1  \n",
              "1      4       1      1        0  \n",
              "2      4       1      1        0  \n",
              "3      4       1      0        0  \n",
              "4      4       1      0        1  "
            ],
            "text/html": [
              "\n",
              "  <div id=\"df-7d9578bd-0fbb-49cf-b2f6-44f4cced986f\">\n",
              "    <div class=\"colab-df-container\">\n",
              "      <div>\n",
              "<style scoped>\n",
              "    .dataframe tbody tr th:only-of-type {\n",
              "        vertical-align: middle;\n",
              "    }\n",
              "\n",
              "    .dataframe tbody tr th {\n",
              "        vertical-align: top;\n",
              "    }\n",
              "\n",
              "    .dataframe thead th {\n",
              "        text-align: right;\n",
              "    }\n",
              "</style>\n",
              "<table border=\"1\" class=\"dataframe\">\n",
              "  <thead>\n",
              "    <tr style=\"text-align: right;\">\n",
              "      <th></th>\n",
              "      <th>Price</th>\n",
              "      <th>Mileage</th>\n",
              "      <th>Make</th>\n",
              "      <th>Model</th>\n",
              "      <th>Trim</th>\n",
              "      <th>Type</th>\n",
              "      <th>Cylinder</th>\n",
              "      <th>Liter</th>\n",
              "      <th>Doors</th>\n",
              "      <th>Cruise</th>\n",
              "      <th>Sound</th>\n",
              "      <th>Leather</th>\n",
              "    </tr>\n",
              "  </thead>\n",
              "  <tbody>\n",
              "    <tr>\n",
              "      <th>0</th>\n",
              "      <td>17314.103129</td>\n",
              "      <td>8221</td>\n",
              "      <td>Buick</td>\n",
              "      <td>Century</td>\n",
              "      <td>Sedan 4D</td>\n",
              "      <td>Sedan</td>\n",
              "      <td>6</td>\n",
              "      <td>3.1</td>\n",
              "      <td>4</td>\n",
              "      <td>1</td>\n",
              "      <td>1</td>\n",
              "      <td>1</td>\n",
              "    </tr>\n",
              "    <tr>\n",
              "      <th>1</th>\n",
              "      <td>17542.036083</td>\n",
              "      <td>9135</td>\n",
              "      <td>Buick</td>\n",
              "      <td>Century</td>\n",
              "      <td>Sedan 4D</td>\n",
              "      <td>Sedan</td>\n",
              "      <td>6</td>\n",
              "      <td>3.1</td>\n",
              "      <td>4</td>\n",
              "      <td>1</td>\n",
              "      <td>1</td>\n",
              "      <td>0</td>\n",
              "    </tr>\n",
              "    <tr>\n",
              "      <th>2</th>\n",
              "      <td>16218.847862</td>\n",
              "      <td>13196</td>\n",
              "      <td>Buick</td>\n",
              "      <td>Century</td>\n",
              "      <td>Sedan 4D</td>\n",
              "      <td>Sedan</td>\n",
              "      <td>6</td>\n",
              "      <td>3.1</td>\n",
              "      <td>4</td>\n",
              "      <td>1</td>\n",
              "      <td>1</td>\n",
              "      <td>0</td>\n",
              "    </tr>\n",
              "    <tr>\n",
              "      <th>3</th>\n",
              "      <td>16336.913140</td>\n",
              "      <td>16342</td>\n",
              "      <td>Buick</td>\n",
              "      <td>Century</td>\n",
              "      <td>Sedan 4D</td>\n",
              "      <td>Sedan</td>\n",
              "      <td>6</td>\n",
              "      <td>3.1</td>\n",
              "      <td>4</td>\n",
              "      <td>1</td>\n",
              "      <td>0</td>\n",
              "      <td>0</td>\n",
              "    </tr>\n",
              "    <tr>\n",
              "      <th>4</th>\n",
              "      <td>16339.170324</td>\n",
              "      <td>19832</td>\n",
              "      <td>Buick</td>\n",
              "      <td>Century</td>\n",
              "      <td>Sedan 4D</td>\n",
              "      <td>Sedan</td>\n",
              "      <td>6</td>\n",
              "      <td>3.1</td>\n",
              "      <td>4</td>\n",
              "      <td>1</td>\n",
              "      <td>0</td>\n",
              "      <td>1</td>\n",
              "    </tr>\n",
              "  </tbody>\n",
              "</table>\n",
              "</div>\n",
              "      <button class=\"colab-df-convert\" onclick=\"convertToInteractive('df-7d9578bd-0fbb-49cf-b2f6-44f4cced986f')\"\n",
              "              title=\"Convert this dataframe to an interactive table.\"\n",
              "              style=\"display:none;\">\n",
              "        \n",
              "  <svg xmlns=\"http://www.w3.org/2000/svg\" height=\"24px\"viewBox=\"0 0 24 24\"\n",
              "       width=\"24px\">\n",
              "    <path d=\"M0 0h24v24H0V0z\" fill=\"none\"/>\n",
              "    <path d=\"M18.56 5.44l.94 2.06.94-2.06 2.06-.94-2.06-.94-.94-2.06-.94 2.06-2.06.94zm-11 1L8.5 8.5l.94-2.06 2.06-.94-2.06-.94L8.5 2.5l-.94 2.06-2.06.94zm10 10l.94 2.06.94-2.06 2.06-.94-2.06-.94-.94-2.06-.94 2.06-2.06.94z\"/><path d=\"M17.41 7.96l-1.37-1.37c-.4-.4-.92-.59-1.43-.59-.52 0-1.04.2-1.43.59L10.3 9.45l-7.72 7.72c-.78.78-.78 2.05 0 2.83L4 21.41c.39.39.9.59 1.41.59.51 0 1.02-.2 1.41-.59l7.78-7.78 2.81-2.81c.8-.78.8-2.07 0-2.86zM5.41 20L4 18.59l7.72-7.72 1.47 1.35L5.41 20z\"/>\n",
              "  </svg>\n",
              "      </button>\n",
              "      \n",
              "  <style>\n",
              "    .colab-df-container {\n",
              "      display:flex;\n",
              "      flex-wrap:wrap;\n",
              "      gap: 12px;\n",
              "    }\n",
              "\n",
              "    .colab-df-convert {\n",
              "      background-color: #E8F0FE;\n",
              "      border: none;\n",
              "      border-radius: 50%;\n",
              "      cursor: pointer;\n",
              "      display: none;\n",
              "      fill: #1967D2;\n",
              "      height: 32px;\n",
              "      padding: 0 0 0 0;\n",
              "      width: 32px;\n",
              "    }\n",
              "\n",
              "    .colab-df-convert:hover {\n",
              "      background-color: #E2EBFA;\n",
              "      box-shadow: 0px 1px 2px rgba(60, 64, 67, 0.3), 0px 1px 3px 1px rgba(60, 64, 67, 0.15);\n",
              "      fill: #174EA6;\n",
              "    }\n",
              "\n",
              "    [theme=dark] .colab-df-convert {\n",
              "      background-color: #3B4455;\n",
              "      fill: #D2E3FC;\n",
              "    }\n",
              "\n",
              "    [theme=dark] .colab-df-convert:hover {\n",
              "      background-color: #434B5C;\n",
              "      box-shadow: 0px 1px 3px 1px rgba(0, 0, 0, 0.15);\n",
              "      filter: drop-shadow(0px 1px 2px rgba(0, 0, 0, 0.3));\n",
              "      fill: #FFFFFF;\n",
              "    }\n",
              "  </style>\n",
              "\n",
              "      <script>\n",
              "        const buttonEl =\n",
              "          document.querySelector('#df-7d9578bd-0fbb-49cf-b2f6-44f4cced986f button.colab-df-convert');\n",
              "        buttonEl.style.display =\n",
              "          google.colab.kernel.accessAllowed ? 'block' : 'none';\n",
              "\n",
              "        async function convertToInteractive(key) {\n",
              "          const element = document.querySelector('#df-7d9578bd-0fbb-49cf-b2f6-44f4cced986f');\n",
              "          const dataTable =\n",
              "            await google.colab.kernel.invokeFunction('convertToInteractive',\n",
              "                                                     [key], {});\n",
              "          if (!dataTable) return;\n",
              "\n",
              "          const docLinkHtml = 'Like what you see? Visit the ' +\n",
              "            '<a target=\"_blank\" href=https://colab.research.google.com/notebooks/data_table.ipynb>data table notebook</a>'\n",
              "            + ' to learn more about interactive tables.';\n",
              "          element.innerHTML = '';\n",
              "          dataTable['output_type'] = 'display_data';\n",
              "          await google.colab.output.renderOutput(dataTable, element);\n",
              "          const docLink = document.createElement('div');\n",
              "          docLink.innerHTML = docLinkHtml;\n",
              "          element.appendChild(docLink);\n",
              "        }\n",
              "      </script>\n",
              "    </div>\n",
              "  </div>\n",
              "  "
            ]
          },
          "metadata": {},
          "execution_count": 45
        }
      ]
    },
    {
      "cell_type": "code",
      "execution_count": 46,
      "metadata": {
        "id": "Ut5noQcE1XpT"
      },
      "outputs": [],
      "source": [
        "X=df[['Mileage']]\n",
        "y=df['Price']"
      ]
    },
    {
      "cell_type": "code",
      "source": [
        "LR=linear_model.LinearRegression()\n",
        "LR.fit(X,y)"
      ],
      "metadata": {
        "colab": {
          "base_uri": "https://localhost:8080/"
        },
        "id": "j6ymbyNKJQdK",
        "outputId": "28b0cabf-04f5-467a-be7e-714aab5e4525"
      },
      "execution_count": 47,
      "outputs": [
        {
          "output_type": "execute_result",
          "data": {
            "text/plain": [
              "LinearRegression()"
            ]
          },
          "metadata": {},
          "execution_count": 47
        }
      ]
    },
    {
      "cell_type": "markdown",
      "source": [
        "**1.Finding linear regression equation**"
      ],
      "metadata": {
        "id": "UnOjq-GAJoPO"
      }
    },
    {
      "cell_type": "code",
      "source": [
        "print('intercept:', LR.intercept_)\n",
        "print('coefficients:', LR.coef_)"
      ],
      "metadata": {
        "colab": {
          "base_uri": "https://localhost:8080/"
        },
        "id": "Mgw9RvI4Qi09",
        "outputId": "60c704a5-1c47-46c3-a4af-0a12b256b095"
      },
      "execution_count": 48,
      "outputs": [
        {
          "output_type": "stream",
          "name": "stdout",
          "text": [
            "intercept: 24764.559006061685\n",
            "coefficients: [-0.1725205]\n"
          ]
        }
      ]
    },
    {
      "cell_type": "code",
      "source": [
        "print('Linear Regression Equation: y = {:.4f} * x + {:.4f}'\n",
        "      .format(LR.coef_[0], LR.intercept_))"
      ],
      "metadata": {
        "colab": {
          "base_uri": "https://localhost:8080/"
        },
        "id": "tEmaJGGxJoj-",
        "outputId": "e3aba37c-4c2c-426d-8f3c-e0d43dc1663e"
      },
      "execution_count": 49,
      "outputs": [
        {
          "output_type": "stream",
          "name": "stdout",
          "text": [
            "Linear Regression Equation: y = -0.1725 * x + 24764.5590\n"
          ]
        }
      ]
    },
    {
      "cell_type": "code",
      "source": [
        "plt.scatter(X,y,color='r')\n",
        "plt.plot(X,LR.predict(X))\n",
        "plt.xlabel('Mileage')\n",
        "plt.ylabel('Price')\n",
        "plt.title('Mileage vs Price')\n"
      ],
      "metadata": {
        "colab": {
          "base_uri": "https://localhost:8080/",
          "height": 312
        },
        "id": "dekhoNvQQ0-o",
        "outputId": "2726402a-ab32-47ce-a2c2-5103865adc22"
      },
      "execution_count": 50,
      "outputs": [
        {
          "output_type": "execute_result",
          "data": {
            "text/plain": [
              "Text(0.5, 1.0, 'Mileage vs Price')"
            ]
          },
          "metadata": {},
          "execution_count": 50
        },
        {
          "output_type": "display_data",
          "data": {
            "text/plain": [
              "<Figure size 432x288 with 1 Axes>"
            ],
            "image/png": "[encoded data removed]"
          },
          "metadata": {
            "needs_background": "light"
          }
        }
      ]
    },
    {
      "cell_type": "code",
      "source": [
        "print('r-squared:', LR.score(X, y))"
      ],
      "metadata": {
        "colab": {
          "base_uri": "https://localhost:8080/"
        },
        "id": "hPK1sFyAR2Yd",
        "outputId": "e92ff1b6-c358-4819-ccf7-cdfac5474a60"
      },
      "execution_count": 51,
      "outputs": [
        {
          "output_type": "stream",
          "name": "stdout",
          "text": [
            "r-squared: 0.02046344732348926\n"
          ]
        }
      ]
    },
    {
      "cell_type": "markdown",
      "source": [
        "**Because this is below 0.8, this is not a good fit for this data **"
      ],
      "metadata": {
        "id": "5oJiAvUczjce"
      }
    },
    {
      "cell_type": "markdown",
      "source": [
        "# Task 2"
      ],
      "metadata": {
        "id": "3L9IjD8m0Rs9"
      }
    },
    {
      "cell_type": "code",
      "source": [
        "feature = ['Mileage', 'Cylinder', 'Liter', 'Doors', 'Cruise', 'Sound', 'Leather']\n",
        "X = df[feature]\n",
        "y = df[['Price']]\n",
        "LR=linear_model.LinearRegression()\n",
        "LR.fit(X,y)"
      ],
      "metadata": {
        "colab": {
          "base_uri": "https://localhost:8080/"
        },
        "id": "7_aP2qn40UBb",
        "outputId": "6c7b5ec0-9b0b-4715-ac39-435db6274b20"
      },
      "execution_count": 52,
      "outputs": [
        {
          "output_type": "execute_result",
          "data": {
            "text/plain": [
              "LinearRegression()"
            ]
          },
          "metadata": {},
          "execution_count": 52
        }
      ]
    },
    {
      "cell_type": "code",
      "source": [
        "df.corr()"
      ],
      "metadata": {
        "colab": {
          "base_uri": "https://localhost:8080/",
          "height": 300
        },
        "id": "k1sS3-3x1xgS",
        "outputId": "4954a495-6030-4c1c-b738-2547a24a076f"
      },
      "execution_count": 53,
      "outputs": [
        {
          "output_type": "execute_result",
          "data": {
            "text/plain": [
              "             Price   Mileage  Cylinder     Liter     Doors    Cruise  \\\n",
              "Price     1.000000 -0.143051  0.569086  0.558146 -0.138750  0.430851   \n",
              "Mileage  -0.143051  1.000000 -0.029461 -0.018641 -0.016944  0.025037   \n",
              "Cylinder  0.569086 -0.029461  1.000000  0.957897  0.002206  0.354285   \n",
              "Liter     0.558146 -0.018641  0.957897  1.000000 -0.079259  0.377509   \n",
              "Doors    -0.138750 -0.016944  0.002206 -0.079259  1.000000 -0.047674   \n",
              "Cruise    0.430851  0.025037  0.354285  0.377509 -0.047674  1.000000   \n",
              "Sound    -0.124348 -0.026146 -0.089704 -0.065527 -0.062530 -0.091730   \n",
              "Leather   0.157197  0.001005  0.075520  0.087332 -0.061969 -0.070573   \n",
              "\n",
              "             Sound   Leather  \n",
              "Price    -0.124348  0.157197  \n",
              "Mileage  -0.026146  0.001005  \n",
              "Cylinder -0.089704  0.075520  \n",
              "Liter    -0.065527  0.087332  \n",
              "Doors    -0.062530 -0.061969  \n",
              "Cruise   -0.091730 -0.070573  \n",
              "Sound     1.000000  0.165444  \n",
              "Leather   0.165444  1.000000  "
            ],
            "text/html": [
              "\n",
              "  <div id=\"df-b4837b8a-1ef8-4467-9ef3-a3b0929e8573\">\n",
              "    <div class=\"colab-df-container\">\n",
              "      <div>\n",
              "<style scoped>\n",
              "    .dataframe tbody tr th:only-of-type {\n",
              "        vertical-align: middle;\n",
              "    }\n",
              "\n",
              "    .dataframe tbody tr th {\n",
              "        vertical-align: top;\n",
              "    }\n",
              "\n",
              "    .dataframe thead th {\n",
              "        text-align: right;\n",
              "    }\n",
              "</style>\n",
              "<table border=\"1\" class=\"dataframe\">\n",
              "  <thead>\n",
              "    <tr style=\"text-align: right;\">\n",
              "      <th></th>\n",
              "      <th>Price</th>\n",
              "      <th>Mileage</th>\n",
              "      <th>Cylinder</th>\n",
              "      <th>Liter</th>\n",
              "      <th>Doors</th>\n",
              "      <th>Cruise</th>\n",
              "      <th>Sound</th>\n",
              "      <th>Leather</th>\n",
              "    </tr>\n",
              "  </thead>\n",
              "  <tbody>\n",
              "    <tr>\n",
              "      <th>Price</th>\n",
              "      <td>1.000000</td>\n",
              "      <td>-0.143051</td>\n",
              "      <td>0.569086</td>\n",
              "      <td>0.558146</td>\n",
              "      <td>-0.138750</td>\n",
              "      <td>0.430851</td>\n",
              "      <td>-0.124348</td>\n",
              "      <td>0.157197</td>\n",
              "    </tr>\n",
              "    <tr>\n",
              "      <th>Mileage</th>\n",
              "      <td>-0.143051</td>\n",
              "      <td>1.000000</td>\n",
              "      <td>-0.029461</td>\n",
              "      <td>-0.018641</td>\n",
              "      <td>-0.016944</td>\n",
              "      <td>0.025037</td>\n",
              "      <td>-0.026146</td>\n",
              "      <td>0.001005</td>\n",
              "    </tr>\n",
              "    <tr>\n",
              "      <th>Cylinder</th>\n",
              "      <td>0.569086</td>\n",
              "      <td>-0.029461</td>\n",
              "      <td>1.000000</td>\n",
              "      <td>0.957897</td>\n",
              "      <td>0.002206</td>\n",
              "      <td>0.354285</td>\n",
              "      <td>-0.089704</td>\n",
              "      <td>0.075520</td>\n",
              "    </tr>\n",
              "    <tr>\n",
              "      <th>Liter</th>\n",
              "      <td>0.558146</td>\n",
              "      <td>-0.018641</td>\n",
              "      <td>0.957897</td>\n",
              "      <td>1.000000</td>\n",
              "      <td>-0.079259</td>\n",
              "      <td>0.377509</td>\n",
              "      <td>-0.065527</td>\n",
              "      <td>0.087332</td>\n",
              "    </tr>\n",
              "    <tr>\n",
              "      <th>Doors</th>\n",
              "      <td>-0.138750</td>\n",
              "      <td>-0.016944</td>\n",
              "      <td>0.002206</td>\n",
              "      <td>-0.079259</td>\n",
              "      <td>1.000000</td>\n",
              "      <td>-0.047674</td>\n",
              "      <td>-0.062530</td>\n",
              "      <td>-0.061969</td>\n",
              "    </tr>\n",
              "    <tr>\n",
              "      <th>Cruise</th>\n",
              "      <td>0.430851</td>\n",
              "      <td>0.025037</td>\n",
              "      <td>0.354285</td>\n",
              "      <td>0.377509</td>\n",
              "      <td>-0.047674</td>\n",
              "      <td>1.000000</td>\n",
              "      <td>-0.091730</td>\n",
              "      <td>-0.070573</td>\n",
              "    </tr>\n",
              "    <tr>\n",
              "      <th>Sound</th>\n",
              "      <td>-0.124348</td>\n",
              "      <td>-0.026146</td>\n",
              "      <td>-0.089704</td>\n",
              "      <td>-0.065527</td>\n",
              "      <td>-0.062530</td>\n",
              "      <td>-0.091730</td>\n",
              "      <td>1.000000</td>\n",
              "      <td>0.165444</td>\n",
              "    </tr>\n",
              "    <tr>\n",
              "      <th>Leather</th>\n",
              "      <td>0.157197</td>\n",
              "      <td>0.001005</td>\n",
              "      <td>0.075520</td>\n",
              "      <td>0.087332</td>\n",
              "      <td>-0.061969</td>\n",
              "      <td>-0.070573</td>\n",
              "      <td>0.165444</td>\n",
              "      <td>1.000000</td>\n",
              "    </tr>\n",
              "  </tbody>\n",
              "</table>\n",
              "</div>\n",
              "      <button class=\"colab-df-convert\" onclick=\"convertToInteractive('df-b4837b8a-1ef8-4467-9ef3-a3b0929e8573')\"\n",
              "              title=\"Convert this dataframe to an interactive table.\"\n",
              "              style=\"display:none;\">\n",
              "        \n",
              "  <svg xmlns=\"http://www.w3.org/2000/svg\" height=\"24px\"viewBox=\"0 0 24 24\"\n",
              "       width=\"24px\">\n",
              "    <path d=\"M0 0h24v24H0V0z\" fill=\"none\"/>\n",
              "    <path d=\"M18.56 5.44l.94 2.06.94-2.06 2.06-.94-2.06-.94-.94-2.06-.94 2.06-2.06.94zm-11 1L8.5 8.5l.94-2.06 2.06-.94-2.06-.94L8.5 2.5l-.94 2.06-2.06.94zm10 10l.94 2.06.94-2.06 2.06-.94-2.06-.94-.94-2.06-.94 2.06-2.06.94z\"/><path d=\"M17.41 7.96l-1.37-1.37c-.4-.4-.92-.59-1.43-.59-.52 0-1.04.2-1.43.59L10.3 9.45l-7.72 7.72c-.78.78-.78 2.05 0 2.83L4 21.41c.39.39.9.59 1.41.59.51 0 1.02-.2 1.41-.59l7.78-7.78 2.81-2.81c.8-.78.8-2.07 0-2.86zM5.41 20L4 18.59l7.72-7.72 1.47 1.35L5.41 20z\"/>\n",
              "  </svg>\n",
              "      </button>\n",
              "      \n",
              "  <style>\n",
              "    .colab-df-container {\n",
              "      display:flex;\n",
              "      flex-wrap:wrap;\n",
              "      gap: 12px;\n",
              "    }\n",
              "\n",
              "    .colab-df-convert {\n",
              "      background-color: #E8F0FE;\n",
              "      border: none;\n",
              "      border-radius: 50%;\n",
              "      cursor: pointer;\n",
              "      display: none;\n",
              "      fill: #1967D2;\n",
              "      height: 32px;\n",
              "      padding: 0 0 0 0;\n",
              "      width: 32px;\n",
              "    }\n",
              "\n",
              "    .colab-df-convert:hover {\n",
              "      background-color: #E2EBFA;\n",
              "      box-shadow: 0px 1px 2px rgba(60, 64, 67, 0.3), 0px 1px 3px 1px rgba(60, 64, 67, 0.15);\n",
              "      fill: #174EA6;\n",
              "    }\n",
              "\n",
              "    [theme=dark] .colab-df-convert {\n",
              "      background-color: #3B4455;\n",
              "      fill: #D2E3FC;\n",
              "    }\n",
              "\n",
              "    [theme=dark] .colab-df-convert:hover {\n",
              "      background-color: #434B5C;\n",
              "      box-shadow: 0px 1px 3px 1px rgba(0, 0, 0, 0.15);\n",
              "      filter: drop-shadow(0px 1px 2px rgba(0, 0, 0, 0.3));\n",
              "      fill: #FFFFFF;\n",
              "    }\n",
              "  </style>\n",
              "\n",
              "      <script>\n",
              "        const buttonEl =\n",
              "          document.querySelector('#df-b4837b8a-1ef8-4467-9ef3-a3b0929e8573 button.colab-df-convert');\n",
              "        buttonEl.style.display =\n",
              "          google.colab.kernel.accessAllowed ? 'block' : 'none';\n",
              "\n",
              "        async function convertToInteractive(key) {\n",
              "          const element = document.querySelector('#df-b4837b8a-1ef8-4467-9ef3-a3b0929e8573');\n",
              "          const dataTable =\n",
              "            await google.colab.kernel.invokeFunction('convertToInteractive',\n",
              "                                                     [key], {});\n",
              "          if (!dataTable) return;\n",
              "\n",
              "          const docLinkHtml = 'Like what you see? Visit the ' +\n",
              "            '<a target=\"_blank\" href=https://colab.research.google.com/notebooks/data_table.ipynb>data table notebook</a>'\n",
              "            + ' to learn more about interactive tables.';\n",
              "          element.innerHTML = '';\n",
              "          dataTable['output_type'] = 'display_data';\n",
              "          await google.colab.output.renderOutput(dataTable, element);\n",
              "          const docLink = document.createElement('div');\n",
              "          docLink.innerHTML = docLinkHtml;\n",
              "          element.appendChild(docLink);\n",
              "        }\n",
              "      </script>\n",
              "    </div>\n",
              "  </div>\n",
              "  "
            ]
          },
          "metadata": {},
          "execution_count": 53
        }
      ]
    },
    {
      "cell_type": "code",
      "source": [
        "print('intercept:', LR.intercept_)\n",
        "print('coefficients:', LR.coef_)"
      ],
      "metadata": {
        "colab": {
          "base_uri": "https://localhost:8080/"
        },
        "id": "AvCHt9CZ12wa",
        "outputId": "6222c702-7127-4a89-c116-e0516a27b013"
      },
      "execution_count": 54,
      "outputs": [
        {
          "output_type": "stream",
          "name": "stdout",
          "text": [
            "intercept: [6758.7551436]\n",
            "coefficients: [[-1.69747832e-01  3.79237893e+03 -7.87220732e+02 -1.54274585e+03\n",
            "   6.28899715e+03 -1.99379528e+03  3.34936162e+03]]\n"
          ]
        }
      ]
    },
    {
      "cell_type": "code",
      "source": [
        "def lin_reg_eq_print(feature, df):\n",
        "    input_cols = df[feature]\n",
        "    y = df['Price']\n",
        "    regr_sd = linear_model.LinearRegression()\n",
        "    regr_sd.fit(input_cols, y)\n",
        "    print('The equation for columns {} with respect to Price:\\n'\n",
        "          '{} + {}'.format(feature, LR.coef_, LR.intercept_))"
      ],
      "metadata": {
        "id": "6I7UCFpQ5NJO"
      },
      "execution_count": 55,
      "outputs": []
    },
    {
      "cell_type": "code",
      "source": [
        "lin_reg_eq_print(feature, df)"
      ],
      "metadata": {
        "colab": {
          "base_uri": "https://localhost:8080/"
        },
        "id": "E1eB1RdI5lwA",
        "outputId": "3ea4f6a0-d13d-4103-8921-bce26b5ab122"
      },
      "execution_count": 56,
      "outputs": [
        {
          "output_type": "stream",
          "name": "stdout",
          "text": [
            "The equation for columns ['Mileage', 'Cylinder', 'Liter', 'Doors', 'Cruise', 'Sound', 'Leather'] with respect to Price:\n",
            "[[-1.69747832e-01  3.79237893e+03 -7.87220732e+02 -1.54274585e+03\n",
            "   6.28899715e+03 -1.99379528e+03  3.34936162e+03]] + [6758.7551436]\n"
          ]
        }
      ]
    },
    {
      "cell_type": "markdown",
      "source": [
        "R2 SCORE"
      ],
      "metadata": {
        "id": "LioqsgwK2UZE"
      }
    },
    {
      "cell_type": "code",
      "source": [
        "print('r-squared: ', LR.score(X, y))"
      ],
      "metadata": {
        "colab": {
          "base_uri": "https://localhost:8080/"
        },
        "id": "L6GVN0hh2IC8",
        "outputId": "e9bc2351-04e1-414e-da7c-564400912889"
      },
      "execution_count": 57,
      "outputs": [
        {
          "output_type": "stream",
          "name": "stdout",
          "text": [
            "r-squared:  0.4462643536728379\n"
          ]
        }
      ]
    },
    {
      "cell_type": "markdown",
      "source": [
        "***Because this is below 0.8, this is not a good fit for this data ***"
      ],
      "metadata": {
        "id": "Btz8eWWu6PMY"
      }
    },
    {
      "cell_type": "code",
      "source": [
        "import itertools as it"
      ],
      "metadata": {
        "id": "xJ33bJG95L9_"
      },
      "execution_count": 58,
      "outputs": []
    },
    {
      "cell_type": "code",
      "source": [
        "def lin_r2(feature, df, p='Price'):\n",
        "    input = df[feature]\n",
        "    output = df[p]\n",
        "    lr = linear_model.LinearRegression()\n",
        "    lr.fit(input,output)\n",
        "    return lr.score(input,output)"
      ],
      "metadata": {
        "id": "xzyXIULP99_y"
      },
      "execution_count": 59,
      "outputs": []
    },
    {
      "cell_type": "code",
      "source": [
        "def get_combos(cols):\n",
        "    return [it.combinations(cols, n + 1) for n in range(len(cols))]"
      ],
      "metadata": {
        "id": "WObPioga8fCs"
      },
      "execution_count": 60,
      "outputs": []
    },
    {
      "cell_type": "code",
      "source": [
        "combos = get_combos(feature)"
      ],
      "metadata": {
        "id": "RmHs2U5c8iUK"
      },
      "execution_count": 61,
      "outputs": []
    },
    {
      "cell_type": "code",
      "source": [
        "def all_combo_scores(combos, df, focus='Price'):\n",
        "    combo_scores = {}\n",
        "    for m in range(len(list(combos))):\n",
        "        for n in list(combos[m]):\n",
        "            combo_scores[lin_r2(list(n), df, focus)] = n\n",
        "    return combo_scores"
      ],
      "metadata": {
        "id": "qGj_3vS78mez"
      },
      "execution_count": 62,
      "outputs": []
    },
    {
      "cell_type": "code",
      "source": [
        "combo_scores = all_combo_scores(combos, df)\n",
        "sorted(combo_scores.items(), key=lambda c: c[0], reverse=True)"
      ],
      "metadata": {
        "colab": {
          "base_uri": "https://localhost:8080/"
        },
        "id": "U3ZBdAHg9iG-",
        "outputId": "104534be-3784-4086-909d-0e59dfc3e300"
      },
      "execution_count": 63,
      "outputs": [
        {
          "output_type": "execute_result",
          "data": {
            "text/plain": [
              "[(0.4462643536728379,\n",
              "  ('Mileage', 'Cylinder', 'Liter', 'Doors', 'Cruise', 'Sound', 'Leather')),\n",
              " (0.44569092105870245,\n",
              "  ('Mileage', 'Cylinder', 'Doors', 'Cruise', 'Sound', 'Leather')),\n",
              " (0.437805741536638,\n",
              "  ('Mileage', 'Cylinder', 'Liter', 'Doors', 'Cruise', 'Leather')),\n",
              " (0.4369402151237246, ('Mileage', 'Cylinder', 'Doors', 'Cruise', 'Leather')),\n",
              " (0.43014148406475594,\n",
              "  ('Mileage', 'Cylinder', 'Liter', 'Cruise', 'Sound', 'Leather')),\n",
              " (0.43001820483252684, ('Mileage', 'Cylinder', 'Cruise', 'Sound', 'Leather')),\n",
              " (0.4265348637809262,\n",
              "  ('Cylinder', 'Liter', 'Doors', 'Cruise', 'Sound', 'Leather')),\n",
              " (0.4257681327974421, ('Cylinder', 'Doors', 'Cruise', 'Sound', 'Leather')),\n",
              " (0.42482840454267856,\n",
              "  ('Mileage', 'Liter', 'Doors', 'Cruise', 'Sound', 'Leather')),\n",
              " (0.4244182401799875,\n",
              "  ('Mileage', 'Cylinder', 'Liter', 'Doors', 'Cruise', 'Sound')),\n",
              " (0.42409748258510405, ('Mileage', 'Cylinder', 'Doors', 'Cruise', 'Sound')),\n",
              " (0.4225307670398465, ('Mileage', 'Cylinder', 'Liter', 'Cruise', 'Leather')),\n",
              " (0.4225074214774762, ('Mileage', 'Cylinder', 'Cruise', 'Leather')),\n",
              " (0.4196580477703242, ('Mileage', 'Cylinder', 'Liter', 'Doors', 'Cruise')),\n",
              " (0.41914964510731756, ('Mileage', 'Cylinder', 'Doors', 'Cruise')),\n",
              " (0.4188394218057132, ('Cylinder', 'Liter', 'Doors', 'Cruise', 'Leather')),\n",
              " (0.4177602737019719, ('Cylinder', 'Doors', 'Cruise', 'Leather')),\n",
              " (0.41650804904235117, ('Mileage', 'Liter', 'Cruise', 'Sound', 'Leather')),\n",
              " (0.414009223163035, ('Mileage', 'Liter', 'Doors', 'Cruise', 'Leather')),\n",
              " (0.4107029526441044, ('Cylinder', 'Liter', 'Cruise', 'Sound', 'Leather')),\n",
              " (0.41065494158588833, ('Cylinder', 'Cruise', 'Sound', 'Leather')),\n",
              " (0.40678789687026895, ('Mileage', 'Liter', 'Cruise', 'Leather')),\n",
              " (0.40654915865835173, ('Mileage', 'Cylinder', 'Liter', 'Cruise', 'Sound')),\n",
              " (0.4061644982625815, ('Mileage', 'Cylinder', 'Cruise', 'Sound')),\n",
              " (0.4050927515057854, ('Cylinder', 'Liter', 'Doors', 'Cruise', 'Sound')),\n",
              " (0.40462307098659855, ('Cylinder', 'Doors', 'Cruise', 'Sound')),\n",
              " (0.40380376425767606, ('Cylinder', 'Liter', 'Cruise', 'Leather')),\n",
              " (0.40380272693971553, ('Cylinder', 'Cruise', 'Leather')),\n",
              " (0.40346337208358063, ('Liter', 'Doors', 'Cruise', 'Sound', 'Leather')),\n",
              " (0.4031213170211536, ('Mileage', 'Liter', 'Doors', 'Cruise', 'Sound')),\n",
              " (0.4025842618924307, ('Mileage', 'Cylinder', 'Liter', 'Cruise')),\n",
              " (0.4023745860316019, ('Mileage', 'Cylinder', 'Cruise')),\n",
              " (0.40087486932703054, ('Cylinder', 'Liter', 'Doors', 'Cruise')),\n",
              " (0.4001989079545568, ('Cylinder', 'Doors', 'Cruise')),\n",
              " (0.39653266980131796, ('Mileage', 'Liter', 'Doors', 'Cruise')),\n",
              " (0.39564260736568424, ('Liter', 'Cruise', 'Sound', 'Leather')),\n",
              " (0.39346849142215845, ('Mileage', 'Liter', 'Cruise', 'Sound')),\n",
              " (0.39345887351036213, ('Liter', 'Doors', 'Cruise', 'Leather')),\n",
              " (0.38792398390551597, ('Mileage', 'Liter', 'Cruise')),\n",
              " (0.38754312167360194, ('Cylinder', 'Liter', 'Cruise', 'Sound')),\n",
              " (0.3873058022296456, ('Cylinder', 'Cruise', 'Sound')),\n",
              " (0.38665505937731115, ('Liter', 'Cruise', 'Leather')),\n",
              " (0.3840622008524506, ('Cylinder', 'Liter', 'Cruise')),\n",
              " (0.3839491324027344, ('Cylinder', 'Cruise')),\n",
              " (0.382715045002158,\n",
              "  ('Mileage', 'Cylinder', 'Liter', 'Doors', 'Sound', 'Leather')),\n",
              " (0.38258521179336924, ('Mileage', 'Cylinder', 'Doors', 'Sound', 'Leather')),\n",
              " (0.38218087776588217, ('Liter', 'Doors', 'Cruise', 'Sound')),\n",
              " (0.3761916805347969, ('Liter', 'Doors', 'Cruise')),\n",
              " (0.3730745596141458, ('Liter', 'Cruise', 'Sound')),\n",
              " (0.37136690890240676, ('Mileage', 'Cylinder', 'Liter', 'Doors', 'Leather')),\n",
              " (0.37133199838451947, ('Mileage', 'Cylinder', 'Doors', 'Leather')),\n",
              " (0.3680458490296844, ('Liter', 'Cruise')),\n",
              " (0.36771522262682854, ('Mileage', 'Cylinder', 'Liter', 'Doors', 'Sound')),\n",
              " (0.3674991296973681, ('Mileage', 'Cylinder', 'Doors', 'Sound')),\n",
              " (0.365294232839972, ('Mileage', 'Cylinder', 'Liter', 'Sound', 'Leather')),\n",
              " (0.36516944395094464, ('Cylinder', 'Liter', 'Doors', 'Sound', 'Leather')),\n",
              " (0.36511700356207033, ('Cylinder', 'Doors', 'Sound', 'Leather')),\n",
              " (0.36329101174690714, ('Mileage', 'Liter', 'Doors', 'Sound', 'Leather')),\n",
              " (0.3627841037859246, ('Mileage', 'Cylinder', 'Sound', 'Leather')),\n",
              " (0.3601250633027092, ('Mileage', 'Cylinder', 'Liter', 'Doors')),\n",
              " (0.3600299189649303, ('Mileage', 'Cylinder', 'Doors')),\n",
              " (0.354940443055751, ('Mileage', 'Cylinder', 'Liter', 'Leather')),\n",
              " (0.3547068894092531, ('Cylinder', 'Liter', 'Doors', 'Leather')),\n",
              " (0.3547026130008998, ('Cylinder', 'Doors', 'Leather')),\n",
              " (0.35363153818528137, ('Mileage', 'Liter', 'Sound', 'Leather')),\n",
              " (0.35303578931823965, ('Mileage', 'Cylinder', 'Leather')),\n",
              " (0.35038121816111256, ('Cylinder', 'Liter', 'Doors', 'Sound')),\n",
              " (0.3502699330133767, ('Cylinder', 'Doors', 'Sound')),\n",
              " (0.34940517971815865, ('Mileage', 'Liter', 'Doors', 'Leather')),\n",
              " (0.34885465224422074, ('Mileage', 'Cylinder', 'Liter', 'Sound')),\n",
              " (0.34830222786670784, ('Mileage', 'Liter', 'Doors', 'Sound')),\n",
              " (0.34805583937456297, ('Cylinder', 'Liter', 'Sound', 'Leather')),\n",
              " (0.3459853327541679, ('Cylinder', 'Sound', 'Leather')),\n",
              " (0.34579303945195394, ('Mileage', 'Cylinder', 'Sound')),\n",
              " (0.3442397580756411, ('Liter', 'Doors', 'Sound', 'Leather')),\n",
              " (0.3434954780689595, ('Cylinder', 'Liter', 'Doors')),\n",
              " (0.343460536583038, ('Cylinder', 'Doors')),\n",
              " (0.34228021178720824, ('Mileage', 'Cylinder', 'Liter')),\n",
              " (0.34105691618639955, ('Mileage', 'Liter', 'Leather')),\n",
              " (0.33982070826367505, ('Mileage', 'Cylinder')),\n",
              " (0.33859102766485816, ('Mileage', 'Liter', 'Doors')),\n",
              " (0.33853269361625415, ('Cylinder', 'Liter', 'Leather')),\n",
              " (0.3375252452641955, ('Mileage', 'Liter', 'Sound')),\n",
              " (0.33698000644980597, ('Cylinder', 'Leather')),\n",
              " (0.33511407076463473, ('Liter', 'Sound', 'Leather')),\n",
              " (0.3318486045315714, ('Cylinder', 'Liter', 'Sound')),\n",
              " (0.3312844538529036, ('Liter', 'Doors', 'Leather')),\n",
              " (0.32947196699054004, ('Liter', 'Doors', 'Sound')),\n",
              " (0.32927527347959384, ('Cylinder', 'Sound')),\n",
              " (0.3291279066854156, ('Mileage', 'Liter')),\n",
              " (0.32591551601566593, ('Cylinder', 'Liter')),\n",
              " (0.32385903759512247, ('Cylinder',)),\n",
              " (0.32337917189904186, ('Liter', 'Leather')),\n",
              " (0.32051564077668315, ('Liter', 'Doors')),\n",
              " (0.31926427639502897, ('Liter', 'Sound')),\n",
              " (0.31152674427904503, ('Liter',)),\n",
              " (0.272825947675678, ('Mileage', 'Doors', 'Cruise', 'Sound', 'Leather')),\n",
              " (0.2594013856567562, ('Mileage', 'Cruise', 'Sound', 'Leather')),\n",
              " (0.2566547812611919, ('Mileage', 'Doors', 'Cruise', 'Leather')),\n",
              " (0.24744913495807552, ('Doors', 'Cruise', 'Sound', 'Leather')),\n",
              " (0.24484643441472986, ('Mileage', 'Cruise', 'Leather')),\n",
              " (0.23464406340531807, ('Cruise', 'Sound', 'Leather')),\n",
              " (0.23336920288580454, ('Mileage', 'Doors', 'Cruise', 'Sound')),\n",
              " (0.23229120295179528, ('Doors', 'Cruise', 'Leather')),\n",
              " (0.2239031407636466, ('Mileage', 'Doors', 'Cruise')),\n",
              " (0.2210042052179847, ('Cruise', 'Leather')),\n",
              " (0.21721656906779274, ('Mileage', 'Cruise', 'Sound')),\n",
              " (0.2093138558315859, ('Mileage', 'Cruise')),\n",
              " (0.2083536888853531, ('Doors', 'Cruise', 'Sound')),\n",
              " (0.1996382468921617, ('Doors', 'Cruise')),\n",
              " (0.19288948066869627, ('Cruise', 'Sound')),\n",
              " (0.1856330092969276, ('Cruise',)),\n",
              " (0.08933709379370725, ('Mileage', 'Doors', 'Sound', 'Leather')),\n",
              " (0.06965940622436506, ('Mileage', 'Sound', 'Leather')),\n",
              " (0.06687313316188848, ('Doors', 'Sound', 'Leather')),\n",
              " (0.06256392121987697, ('Mileage', 'Doors', 'Leather')),\n",
              " (0.05925054392042661, ('Mileage', 'Doors', 'Sound')),\n",
              " (0.04795369092082724, ('Sound', 'Leather')),\n",
              " (0.04521956340886857, ('Mileage', 'Leather')),\n",
              " (0.04141817346866039, ('Doors', 'Leather')),\n",
              " (0.04039914867118721, ('Mileage', 'Doors')),\n",
              " (0.03701628770903431, ('Doors', 'Sound')),\n",
              " (0.03688121596735017, ('Mileage', 'Sound')),\n",
              " (0.024710851264124534, ('Leather',)),\n",
              " (0.02046344732348926, ('Mileage',)),\n",
              " (0.019251466591467037, ('Doors',)),\n",
              " (0.015462387624189389, ('Sound',))]"
            ]
          },
          "metadata": {},
          "execution_count": 63
        }
      ]
    },
    {
      "cell_type": "markdown",
      "source": [
        "**There is no combination that produces a strong relation**"
      ],
      "metadata": {
        "id": "wNc4txvs-5xr"
      }
    },
    {
      "cell_type": "markdown",
      "source": [
        "**Comparitively these are best possible feature combinations with highest R2 score**"
      ],
      "metadata": {
        "id": "Xi7_4Yl-_U0H"
      }
    },
    {
      "cell_type": "markdown",
      "source": [
        "(0.4462643536728379,\n",
        "  ('Mileage', 'Cylinder', 'Liter', 'Doors', 'Cruise', 'Sound', 'Leather'))\n",
        "\n",
        " (0.44569092105870245,\n",
        "  ('Mileage', 'Cylinder', 'Doors', 'Cruise', 'Sound', 'Leather'))\n",
        "  \n",
        "  \n",
        " (0.437805741536638,\n",
        "  ('Mileage', 'Cylinder', 'Liter', 'Doors', 'Cruise', 'Leather')),\n"
      ],
      "metadata": {
        "id": "NfnzHfmH_l-5"
      }
    },
    {
      "cell_type": "markdown",
      "source": [
        "# Task 3"
      ],
      "metadata": {
        "id": "bOcDQODqAIhs"
      }
    },
    {
      "cell_type": "code",
      "source": [
        "df.columns"
      ],
      "metadata": {
        "colab": {
          "base_uri": "https://localhost:8080/"
        },
        "id": "3os7wMpn-5fL",
        "outputId": "01875163-30a3-4c1a-9088-a8ba1bad4550"
      },
      "execution_count": 64,
      "outputs": [
        {
          "output_type": "execute_result",
          "data": {
            "text/plain": [
              "Index(['Price', 'Mileage', 'Make', 'Model', 'Trim', 'Type', 'Cylinder',\n",
              "       'Liter', 'Doors', 'Cruise', 'Sound', 'Leather'],\n",
              "      dtype='object')"
            ]
          },
          "metadata": {},
          "execution_count": 64
        }
      ]
    },
    {
      "cell_type": "code",
      "source": [
        "df_dummy = df.copy()\n",
        "\n",
        "df_make = pd.get_dummies(df['Make'])\n",
        "df_dummy[list(df_make.columns)] = df_make\n",
        "df_dummy.pop('Make')\n",
        "\n",
        "\n",
        "df_model = pd.get_dummies(df['Model'])\n",
        "df_dummy[list(df_model.columns)] = df_model\n",
        "df_dummy.pop('Model')\n",
        "\n",
        "df_type = pd.get_dummies(df['Type'])\n",
        "df_dummy[list(df_type.columns)] = df_type\n",
        "df_dummy.pop('Type')\n",
        "\n",
        "pd.set_option('display.max_columns', None)\n",
        "df_dummy.head(10)"
      ],
      "metadata": {
        "colab": {
          "base_uri": "https://localhost:8080/",
          "height": 635
        },
        "id": "HGqHJWYmO5mp",
        "outputId": "1dfcb147-1396-48c9-e2f7-f0d5394aa591"
      },
      "execution_count": 73,
      "outputs": [
        {
          "output_type": "execute_result",
          "data": {
            "text/plain": [
              "          Price  Mileage      Trim  Cylinder  Liter  Doors  Cruise  Sound  \\\n",
              "0  17314.103129     8221  Sedan 4D         6    3.1      4       1      1   \n",
              "1  17542.036083     9135  Sedan 4D         6    3.1      4       1      1   \n",
              "2  16218.847862    13196  Sedan 4D         6    3.1      4       1      1   \n",
              "3  16336.913140    16342  Sedan 4D         6    3.1      4       1      0   \n",
              "4  16339.170324    19832  Sedan 4D         6    3.1      4       1      0   \n",
              "5  15709.052821    22236  Sedan 4D         6    3.1      4       1      1   \n",
              "6  15230.003390    22576  Sedan 4D         6    3.1      4       1      1   \n",
              "7  15048.042184    22964  Sedan 4D         6    3.1      4       1      1   \n",
              "8  14862.093870    24021  Sedan 4D         6    3.1      4       1      0   \n",
              "9  15295.018267    27325  Sedan 4D         6    3.1      4       1      1   \n",
              "\n",
              "   Leather  Buick  Cadillac  Chevrolet  Pontiac  SAAB  Saturn  9-2X AWD  9_3  \\\n",
              "0        1      1         0          0        0     0       0         0    0   \n",
              "1        0      1         0          0        0     0       0         0    0   \n",
              "2        0      1         0          0        0     0       0         0    0   \n",
              "3        0      1         0          0        0     0       0         0    0   \n",
              "4        1      1         0          0        0     0       0         0    0   \n",
              "5        0      1         0          0        0     0       0         0    0   \n",
              "6        0      1         0          0        0     0       0         0    0   \n",
              "7        0      1         0          0        0     0       0         0    0   \n",
              "8        1      1         0          0        0     0       0         0    0   \n",
              "9        1      1         0          0        0     0       0         0    0   \n",
              "\n",
              "   9_3 HO  9_5  9_5 HO  AVEO  Bonneville  CST-V  CTS  Cavalier  Century  \\\n",
              "0       0    0       0     0           0      0    0         0        1   \n",
              "1       0    0       0     0           0      0    0         0        1   \n",
              "2       0    0       0     0           0      0    0         0        1   \n",
              "3       0    0       0     0           0      0    0         0        1   \n",
              "4       0    0       0     0           0      0    0         0        1   \n",
              "5       0    0       0     0           0      0    0         0        1   \n",
              "6       0    0       0     0           0      0    0         0        1   \n",
              "7       0    0       0     0           0      0    0         0        1   \n",
              "8       0    0       0     0           0      0    0         0        1   \n",
              "9       0    0       0     0           0      0    0         0        1   \n",
              "\n",
              "   Classic  Cobalt  Corvette  Deville  G6  GTO  Grand Am  Grand Prix  Impala  \\\n",
              "0        0       0         0        0   0    0         0           0       0   \n",
              "1        0       0         0        0   0    0         0           0       0   \n",
              "2        0       0         0        0   0    0         0           0       0   \n",
              "3        0       0         0        0   0    0         0           0       0   \n",
              "4        0       0         0        0   0    0         0           0       0   \n",
              "5        0       0         0        0   0    0         0           0       0   \n",
              "6        0       0         0        0   0    0         0           0       0   \n",
              "7        0       0         0        0   0    0         0           0       0   \n",
              "8        0       0         0        0   0    0         0           0       0   \n",
              "9        0       0         0        0   0    0         0           0       0   \n",
              "\n",
              "   Ion  L Series  Lacrosse  Lesabre  Malibu  Monte Carlo  Park Avenue  STS-V6  \\\n",
              "0    0         0         0        0       0            0            0       0   \n",
              "1    0         0         0        0       0            0            0       0   \n",
              "2    0         0         0        0       0            0            0       0   \n",
              "3    0         0         0        0       0            0            0       0   \n",
              "4    0         0         0        0       0            0            0       0   \n",
              "5    0         0         0        0       0            0            0       0   \n",
              "6    0         0         0        0       0            0            0       0   \n",
              "7    0         0         0        0       0            0            0       0   \n",
              "8    0         0         0        0       0            0            0       0   \n",
              "9    0         0         0        0       0            0            0       0   \n",
              "\n",
              "   STS-V8  Sunfire  Vibe  XLR-V8  Convertible  Coupe  Hatchback  Sedan  Wagon  \n",
              "0       0        0     0       0            0      0          0      1      0  \n",
              "1       0        0     0       0            0      0          0      1      0  \n",
              "2       0        0     0       0            0      0          0      1      0  \n",
              "3       0        0     0       0            0      0          0      1      0  \n",
              "4       0        0     0       0            0      0          0      1      0  \n",
              "5       0        0     0       0            0      0          0      1      0  \n",
              "6       0        0     0       0            0      0          0      1      0  \n",
              "7       0        0     0       0            0      0          0      1      0  \n",
              "8       0        0     0       0            0      0          0      1      0  \n",
              "9       0        0     0       0            0      0          0      1      0  "
            ],
            "text/html": [
              "\n",
              "  <div id=\"df-30f8206c-45e2-47f9-a4be-444c236f888c\">\n",
              "    <div class=\"colab-df-container\">\n",
              "      <div>\n",
              "<style scoped>\n",
              "    .dataframe tbody tr th:only-of-type {\n",
              "        vertical-align: middle;\n",
              "    }\n",
              "\n",
              "    .dataframe tbody tr th {\n",
              "        vertical-align: top;\n",
              "    }\n",
              "\n",
              "    .dataframe thead th {\n",
              "        text-align: right;\n",
              "    }\n",
              "</style>\n",
              "<table border=\"1\" class=\"dataframe\">\n",
              "  <thead>\n",
              "    <tr style=\"text-align: right;\">\n",
              "      <th></th>\n",
              "      <th>Price</th>\n",
              "      <th>Mileage</th>\n",
              "      <th>Trim</th>\n",
              "      <th>Cylinder</th>\n",
              "      <th>Liter</th>\n",
              "      <th>Doors</th>\n",
              "      <th>Cruise</th>\n",
              "      <th>Sound</th>\n",
              "      <th>Leather</th>\n",
              "      <th>Buick</th>\n",
              "      <th>Cadillac</th>\n",
              "      <th>Chevrolet</th>\n",
              "      <th>Pontiac</th>\n",
              "      <th>SAAB</th>\n",
              "      <th>Saturn</th>\n",
              "      <th>9-2X AWD</th>\n",
              "      <th>9_3</th>\n",
              "      <th>9_3 HO</th>\n",
              "      <th>9_5</th>\n",
              "      <th>9_5 HO</th>\n",
              "      <th>AVEO</th>\n",
              "      <th>Bonneville</th>\n",
              "      <th>CST-V</th>\n",
              "      <th>CTS</th>\n",
              "      <th>Cavalier</th>\n",
              "      <th>Century</th>\n",
              "      <th>Classic</th>\n",
              "      <th>Cobalt</th>\n",
              "      <th>Corvette</th>\n",
              "      <th>Deville</th>\n",
              "      <th>G6</th>\n",
              "      <th>GTO</th>\n",
              "      <th>Grand Am</th>\n",
              "      <th>Grand Prix</th>\n",
              "      <th>Impala</th>\n",
              "      <th>Ion</th>\n",
              "      <th>L Series</th>\n",
              "      <th>Lacrosse</th>\n",
              "      <th>Lesabre</th>\n",
              "      <th>Malibu</th>\n",
              "      <th>Monte Carlo</th>\n",
              "      <th>Park Avenue</th>\n",
              "      <th>STS-V6</th>\n",
              "      <th>STS-V8</th>\n",
              "      <th>Sunfire</th>\n",
              "      <th>Vibe</th>\n",
              "      <th>XLR-V8</th>\n",
              "      <th>Convertible</th>\n",
              "      <th>Coupe</th>\n",
              "      <th>Hatchback</th>\n",
              "      <th>Sedan</th>\n",
              "      <th>Wagon</th>\n",
              "    </tr>\n",
              "  </thead>\n",
              "  <tbody>\n",
              "    <tr>\n",
              "      <th>0</th>\n",
              "      <td>17314.103129</td>\n",
              "      <td>8221</td>\n",
              "      <td>Sedan 4D</td>\n",
              "      <td>6</td>\n",
              "      <td>3.1</td>\n",
              "      <td>4</td>\n",
              "      <td>1</td>\n",
              "      <td>1</td>\n",
              "      <td>1</td>\n",
              "      <td>1</td>\n",
              "      <td>0</td>\n",
              "      <td>0</td>\n",
              "      <td>0</td>\n",
              "      <td>0</td>\n",
              "      <td>0</td>\n",
              "      <td>0</td>\n",
              "      <td>0</td>\n",
              "      <td>0</td>\n",
              "      <td>0</td>\n",
              "      <td>0</td>\n",
              "      <td>0</td>\n",
              "      <td>0</td>\n",
              "      <td>0</td>\n",
              "      <td>0</td>\n",
              "      <td>0</td>\n",
              "      <td>1</td>\n",
              "      <td>0</td>\n",
              "      <td>0</td>\n",
              "      <td>0</td>\n",
              "      <td>0</td>\n",
              "      <td>0</td>\n",
              "      <td>0</td>\n",
              "      <td>0</td>\n",
              "      <td>0</td>\n",
              "      <td>0</td>\n",
              "      <td>0</td>\n",
              "      <td>0</td>\n",
              "      <td>0</td>\n",
              "      <td>0</td>\n",
              "      <td>0</td>\n",
              "      <td>0</td>\n",
              "      <td>0</td>\n",
              "      <td>0</td>\n",
              "      <td>0</td>\n",
              "      <td>0</td>\n",
              "      <td>0</td>\n",
              "      <td>0</td>\n",
              "      <td>0</td>\n",
              "      <td>0</td>\n",
              "      <td>0</td>\n",
              "      <td>1</td>\n",
              "      <td>0</td>\n",
              "    </tr>\n",
              "    <tr>\n",
              "      <th>1</th>\n",
              "      <td>17542.036083</td>\n",
              "      <td>9135</td>\n",
              "      <td>Sedan 4D</td>\n",
              "      <td>6</td>\n",
              "      <td>3.1</td>\n",
              "      <td>4</td>\n",
              "      <td>1</td>\n",
              "      <td>1</td>\n",
              "      <td>0</td>\n",
              "      <td>1</td>\n",
              "      <td>0</td>\n",
              "      <td>0</td>\n",
              "      <td>0</td>\n",
              "      <td>0</td>\n",
              "      <td>0</td>\n",
              "      <td>0</td>\n",
              "      <td>0</td>\n",
              "      <td>0</td>\n",
              "      <td>0</td>\n",
              "      <td>0</td>\n",
              "      <td>0</td>\n",
              "      <td>0</td>\n",
              "      <td>0</td>\n",
              "      <td>0</td>\n",
              "      <td>0</td>\n",
              "      <td>1</td>\n",
              "      <td>0</td>\n",
              "      <td>0</td>\n",
              "      <td>0</td>\n",
              "      <td>0</td>\n",
              "      <td>0</td>\n",
              "      <td>0</td>\n",
              "      <td>0</td>\n",
              "      <td>0</td>\n",
              "      <td>0</td>\n",
              "      <td>0</td>\n",
              "      <td>0</td>\n",
              "      <td>0</td>\n",
              "      <td>0</td>\n",
              "      <td>0</td>\n",
              "      <td>0</td>\n",
              "      <td>0</td>\n",
              "      <td>0</td>\n",
              "      <td>0</td>\n",
              "      <td>0</td>\n",
              "      <td>0</td>\n",
              "      <td>0</td>\n",
              "      <td>0</td>\n",
              "      <td>0</td>\n",
              "      <td>0</td>\n",
              "      <td>1</td>\n",
              "      <td>0</td>\n",
              "    </tr>\n",
              "    <tr>\n",
              "      <th>2</th>\n",
              "      <td>16218.847862</td>\n",
              "      <td>13196</td>\n",
              "      <td>Sedan 4D</td>\n",
              "      <td>6</td>\n",
              "      <td>3.1</td>\n",
              "      <td>4</td>\n",
              "      <td>1</td>\n",
              "      <td>1</td>\n",
              "      <td>0</td>\n",
              "      <td>1</td>\n",
              "      <td>0</td>\n",
              "      <td>0</td>\n",
              "      <td>0</td>\n",
              "      <td>0</td>\n",
              "      <td>0</td>\n",
              "      <td>0</td>\n",
              "      <td>0</td>\n",
              "      <td>0</td>\n",
              "      <td>0</td>\n",
              "      <td>0</td>\n",
              "      <td>0</td>\n",
              "      <td>0</td>\n",
              "      <td>0</td>\n",
              "      <td>0</td>\n",
              "      <td>0</td>\n",
              "      <td>1</td>\n",
              "      <td>0</td>\n",
              "      <td>0</td>\n",
              "      <td>0</td>\n",
              "      <td>0</td>\n",
              "      <td>0</td>\n",
              "      <td>0</td>\n",
              "      <td>0</td>\n",
              "      <td>0</td>\n",
              "      <td>0</td>\n",
              "      <td>0</td>\n",
              "      <td>0</td>\n",
              "      <td>0</td>\n",
              "      <td>0</td>\n",
              "      <td>0</td>\n",
              "      <td>0</td>\n",
              "      <td>0</td>\n",
              "      <td>0</td>\n",
              "      <td>0</td>\n",
              "      <td>0</td>\n",
              "      <td>0</td>\n",
              "      <td>0</td>\n",
              "      <td>0</td>\n",
              "      <td>0</td>\n",
              "      <td>0</td>\n",
              "      <td>1</td>\n",
              "      <td>0</td>\n",
              "    </tr>\n",
              "    <tr>\n",
              "      <th>3</th>\n",
              "      <td>16336.913140</td>\n",
              "      <td>16342</td>\n",
              "      <td>Sedan 4D</td>\n",
              "      <td>6</td>\n",
              "      <td>3.1</td>\n",
              "      <td>4</td>\n",
              "      <td>1</td>\n",
              "      <td>0</td>\n",
              "      <td>0</td>\n",
              "      <td>1</td>\n",
              "      <td>0</td>\n",
              "      <td>0</td>\n",
              "      <td>0</td>\n",
              "      <td>0</td>\n",
              "      <td>0</td>\n",
              "      <td>0</td>\n",
              "      <td>0</td>\n",
              "      <td>0</td>\n",
              "      <td>0</td>\n",
              "      <td>0</td>\n",
              "      <td>0</td>\n",
              "      <td>0</td>\n",
              "      <td>0</td>\n",
              "      <td>0</td>\n",
              "      <td>0</td>\n",
              "      <td>1</td>\n",
              "      <td>0</td>\n",
              "      <td>0</td>\n",
              "      <td>0</td>\n",
              "      <td>0</td>\n",
              "      <td>0</td>\n",
              "      <td>0</td>\n",
              "      <td>0</td>\n",
              "      <td>0</td>\n",
              "      <td>0</td>\n",
              "      <td>0</td>\n",
              "      <td>0</td>\n",
              "      <td>0</td>\n",
              "      <td>0</td>\n",
              "      <td>0</td>\n",
              "      <td>0</td>\n",
              "      <td>0</td>\n",
              "      <td>0</td>\n",
              "      <td>0</td>\n",
              "      <td>0</td>\n",
              "      <td>0</td>\n",
              "      <td>0</td>\n",
              "      <td>0</td>\n",
              "      <td>0</td>\n",
              "      <td>0</td>\n",
              "      <td>1</td>\n",
              "      <td>0</td>\n",
              "    </tr>\n",
              "    <tr>\n",
              "      <th>4</th>\n",
              "      <td>16339.170324</td>\n",
              "      <td>19832</td>\n",
              "      <td>Sedan 4D</td>\n",
              "      <td>6</td>\n",
              "      <td>3.1</td>\n",
              "      <td>4</td>\n",
              "      <td>1</td>\n",
              "      <td>0</td>\n",
              "      <td>1</td>\n",
              "      <td>1</td>\n",
              "      <td>0</td>\n",
              "      <td>0</td>\n",
              "      <td>0</td>\n",
              "      <td>0</td>\n",
              "      <td>0</td>\n",
              "      <td>0</td>\n",
              "      <td>0</td>\n",
              "      <td>0</td>\n",
              "      <td>0</td>\n",
              "      <td>0</td>\n",
              "      <td>0</td>\n",
              "      <td>0</td>\n",
              "      <td>0</td>\n",
              "      <td>0</td>\n",
              "      <td>0</td>\n",
              "      <td>1</td>\n",
              "      <td>0</td>\n",
              "      <td>0</td>\n",
              "      <td>0</td>\n",
              "      <td>0</td>\n",
              "      <td>0</td>\n",
              "      <td>0</td>\n",
              "      <td>0</td>\n",
              "      <td>0</td>\n",
              "      <td>0</td>\n",
              "      <td>0</td>\n",
              "      <td>0</td>\n",
              "      <td>0</td>\n",
              "      <td>0</td>\n",
              "      <td>0</td>\n",
              "      <td>0</td>\n",
              "      <td>0</td>\n",
              "      <td>0</td>\n",
              "      <td>0</td>\n",
              "      <td>0</td>\n",
              "      <td>0</td>\n",
              "      <td>0</td>\n",
              "      <td>0</td>\n",
              "      <td>0</td>\n",
              "      <td>0</td>\n",
              "      <td>1</td>\n",
              "      <td>0</td>\n",
              "    </tr>\n",
              "    <tr>\n",
              "      <th>5</th>\n",
              "      <td>15709.052821</td>\n",
              "      <td>22236</td>\n",
              "      <td>Sedan 4D</td>\n",
              "      <td>6</td>\n",
              "      <td>3.1</td>\n",
              "      <td>4</td>\n",
              "      <td>1</td>\n",
              "      <td>1</td>\n",
              "      <td>0</td>\n",
              "      <td>1</td>\n",
              "      <td>0</td>\n",
              "      <td>0</td>\n",
              "      <td>0</td>\n",
              "      <td>0</td>\n",
              "      <td>0</td>\n",
              "      <td>0</td>\n",
              "      <td>0</td>\n",
              "      <td>0</td>\n",
              "      <td>0</td>\n",
              "      <td>0</td>\n",
              "      <td>0</td>\n",
              "      <td>0</td>\n",
              "      <td>0</td>\n",
              "      <td>0</td>\n",
              "      <td>0</td>\n",
              "      <td>1</td>\n",
              "      <td>0</td>\n",
              "      <td>0</td>\n",
              "      <td>0</td>\n",
              "      <td>0</td>\n",
              "      <td>0</td>\n",
              "      <td>0</td>\n",
              "      <td>0</td>\n",
              "      <td>0</td>\n",
              "      <td>0</td>\n",
              "      <td>0</td>\n",
              "      <td>0</td>\n",
              "      <td>0</td>\n",
              "      <td>0</td>\n",
              "      <td>0</td>\n",
              "      <td>0</td>\n",
              "      <td>0</td>\n",
              "      <td>0</td>\n",
              "      <td>0</td>\n",
              "      <td>0</td>\n",
              "      <td>0</td>\n",
              "      <td>0</td>\n",
              "      <td>0</td>\n",
              "      <td>0</td>\n",
              "      <td>0</td>\n",
              "      <td>1</td>\n",
              "      <td>0</td>\n",
              "    </tr>\n",
              "    <tr>\n",
              "      <th>6</th>\n",
              "      <td>15230.003390</td>\n",
              "      <td>22576</td>\n",
              "      <td>Sedan 4D</td>\n",
              "      <td>6</td>\n",
              "      <td>3.1</td>\n",
              "      <td>4</td>\n",
              "      <td>1</td>\n",
              "      <td>1</td>\n",
              "      <td>0</td>\n",
              "      <td>1</td>\n",
              "      <td>0</td>\n",
              "      <td>0</td>\n",
              "      <td>0</td>\n",
              "      <td>0</td>\n",
              "      <td>0</td>\n",
              "      <td>0</td>\n",
              "      <td>0</td>\n",
              "      <td>0</td>\n",
              "      <td>0</td>\n",
              "      <td>0</td>\n",
              "      <td>0</td>\n",
              "      <td>0</td>\n",
              "      <td>0</td>\n",
              "      <td>0</td>\n",
              "      <td>0</td>\n",
              "      <td>1</td>\n",
              "      <td>0</td>\n",
              "      <td>0</td>\n",
              "      <td>0</td>\n",
              "      <td>0</td>\n",
              "      <td>0</td>\n",
              "      <td>0</td>\n",
              "      <td>0</td>\n",
              "      <td>0</td>\n",
              "      <td>0</td>\n",
              "      <td>0</td>\n",
              "      <td>0</td>\n",
              "      <td>0</td>\n",
              "      <td>0</td>\n",
              "      <td>0</td>\n",
              "      <td>0</td>\n",
              "      <td>0</td>\n",
              "      <td>0</td>\n",
              "      <td>0</td>\n",
              "      <td>0</td>\n",
              "      <td>0</td>\n",
              "      <td>0</td>\n",
              "      <td>0</td>\n",
              "      <td>0</td>\n",
              "      <td>0</td>\n",
              "      <td>1</td>\n",
              "      <td>0</td>\n",
              "    </tr>\n",
              "    <tr>\n",
              "      <th>7</th>\n",
              "      <td>15048.042184</td>\n",
              "      <td>22964</td>\n",
              "      <td>Sedan 4D</td>\n",
              "      <td>6</td>\n",
              "      <td>3.1</td>\n",
              "      <td>4</td>\n",
              "      <td>1</td>\n",
              "      <td>1</td>\n",
              "      <td>0</td>\n",
              "      <td>1</td>\n",
              "      <td>0</td>\n",
              "      <td>0</td>\n",
              "      <td>0</td>\n",
              "      <td>0</td>\n",
              "      <td>0</td>\n",
              "      <td>0</td>\n",
              "      <td>0</td>\n",
              "      <td>0</td>\n",
              "      <td>0</td>\n",
              "      <td>0</td>\n",
              "      <td>0</td>\n",
              "      <td>0</td>\n",
              "      <td>0</td>\n",
              "      <td>0</td>\n",
              "      <td>0</td>\n",
              "      <td>1</td>\n",
              "      <td>0</td>\n",
              "      <td>0</td>\n",
              "      <td>0</td>\n",
              "      <td>0</td>\n",
              "      <td>0</td>\n",
              "      <td>0</td>\n",
              "      <td>0</td>\n",
              "      <td>0</td>\n",
              "      <td>0</td>\n",
              "      <td>0</td>\n",
              "      <td>0</td>\n",
              "      <td>0</td>\n",
              "      <td>0</td>\n",
              "      <td>0</td>\n",
              "      <td>0</td>\n",
              "      <td>0</td>\n",
              "      <td>0</td>\n",
              "      <td>0</td>\n",
              "      <td>0</td>\n",
              "      <td>0</td>\n",
              "      <td>0</td>\n",
              "      <td>0</td>\n",
              "      <td>0</td>\n",
              "      <td>0</td>\n",
              "      <td>1</td>\n",
              "      <td>0</td>\n",
              "    </tr>\n",
              "    <tr>\n",
              "      <th>8</th>\n",
              "      <td>14862.093870</td>\n",
              "      <td>24021</td>\n",
              "      <td>Sedan 4D</td>\n",
              "      <td>6</td>\n",
              "      <td>3.1</td>\n",
              "      <td>4</td>\n",
              "      <td>1</td>\n",
              "      <td>0</td>\n",
              "      <td>1</td>\n",
              "      <td>1</td>\n",
              "      <td>0</td>\n",
              "      <td>0</td>\n",
              "      <td>0</td>\n",
              "      <td>0</td>\n",
              "      <td>0</td>\n",
              "      <td>0</td>\n",
              "      <td>0</td>\n",
              "      <td>0</td>\n",
              "      <td>0</td>\n",
              "      <td>0</td>\n",
              "      <td>0</td>\n",
              "      <td>0</td>\n",
              "      <td>0</td>\n",
              "      <td>0</td>\n",
              "      <td>0</td>\n",
              "      <td>1</td>\n",
              "      <td>0</td>\n",
              "      <td>0</td>\n",
              "      <td>0</td>\n",
              "      <td>0</td>\n",
              "      <td>0</td>\n",
              "      <td>0</td>\n",
              "      <td>0</td>\n",
              "      <td>0</td>\n",
              "      <td>0</td>\n",
              "      <td>0</td>\n",
              "      <td>0</td>\n",
              "      <td>0</td>\n",
              "      <td>0</td>\n",
              "      <td>0</td>\n",
              "      <td>0</td>\n",
              "      <td>0</td>\n",
              "      <td>0</td>\n",
              "      <td>0</td>\n",
              "      <td>0</td>\n",
              "      <td>0</td>\n",
              "      <td>0</td>\n",
              "      <td>0</td>\n",
              "      <td>0</td>\n",
              "      <td>0</td>\n",
              "      <td>1</td>\n",
              "      <td>0</td>\n",
              "    </tr>\n",
              "    <tr>\n",
              "      <th>9</th>\n",
              "      <td>15295.018267</td>\n",
              "      <td>27325</td>\n",
              "      <td>Sedan 4D</td>\n",
              "      <td>6</td>\n",
              "      <td>3.1</td>\n",
              "      <td>4</td>\n",
              "      <td>1</td>\n",
              "      <td>1</td>\n",
              "      <td>1</td>\n",
              "      <td>1</td>\n",
              "      <td>0</td>\n",
              "      <td>0</td>\n",
              "      <td>0</td>\n",
              "      <td>0</td>\n",
              "      <td>0</td>\n",
              "      <td>0</td>\n",
              "      <td>0</td>\n",
              "      <td>0</td>\n",
              "      <td>0</td>\n",
              "      <td>0</td>\n",
              "      <td>0</td>\n",
              "      <td>0</td>\n",
              "      <td>0</td>\n",
              "      <td>0</td>\n",
              "      <td>0</td>\n",
              "      <td>1</td>\n",
              "      <td>0</td>\n",
              "      <td>0</td>\n",
              "      <td>0</td>\n",
              "      <td>0</td>\n",
              "      <td>0</td>\n",
              "      <td>0</td>\n",
              "      <td>0</td>\n",
              "      <td>0</td>\n",
              "      <td>0</td>\n",
              "      <td>0</td>\n",
              "      <td>0</td>\n",
              "      <td>0</td>\n",
              "      <td>0</td>\n",
              "      <td>0</td>\n",
              "      <td>0</td>\n",
              "      <td>0</td>\n",
              "      <td>0</td>\n",
              "      <td>0</td>\n",
              "      <td>0</td>\n",
              "      <td>0</td>\n",
              "      <td>0</td>\n",
              "      <td>0</td>\n",
              "      <td>0</td>\n",
              "      <td>0</td>\n",
              "      <td>1</td>\n",
              "      <td>0</td>\n",
              "    </tr>\n",
              "  </tbody>\n",
              "</table>\n",
              "</div>\n",
              "      <button class=\"colab-df-convert\" onclick=\"convertToInteractive('df-30f8206c-45e2-47f9-a4be-444c236f888c')\"\n",
              "              title=\"Convert this dataframe to an interactive table.\"\n",
              "              style=\"display:none;\">\n",
              "        \n",
              "  <svg xmlns=\"http://www.w3.org/2000/svg\" height=\"24px\"viewBox=\"0 0 24 24\"\n",
              "       width=\"24px\">\n",
              "    <path d=\"M0 0h24v24H0V0z\" fill=\"none\"/>\n",
              "    <path d=\"M18.56 5.44l.94 2.06.94-2.06 2.06-.94-2.06-.94-.94-2.06-.94 2.06-2.06.94zm-11 1L8.5 8.5l.94-2.06 2.06-.94-2.06-.94L8.5 2.5l-.94 2.06-2.06.94zm10 10l.94 2.06.94-2.06 2.06-.94-2.06-.94-.94-2.06-.94 2.06-2.06.94z\"/><path d=\"M17.41 7.96l-1.37-1.37c-.4-.4-.92-.59-1.43-.59-.52 0-1.04.2-1.43.59L10.3 9.45l-7.72 7.72c-.78.78-.78 2.05 0 2.83L4 21.41c.39.39.9.59 1.41.59.51 0 1.02-.2 1.41-.59l7.78-7.78 2.81-2.81c.8-.78.8-2.07 0-2.86zM5.41 20L4 18.59l7.72-7.72 1.47 1.35L5.41 20z\"/>\n",
              "  </svg>\n",
              "      </button>\n",
              "      \n",
              "  <style>\n",
              "    .colab-df-container {\n",
              "      display:flex;\n",
              "      flex-wrap:wrap;\n",
              "      gap: 12px;\n",
              "    }\n",
              "\n",
              "    .colab-df-convert {\n",
              "      background-color: #E8F0FE;\n",
              "      border: none;\n",
              "      border-radius: 50%;\n",
              "      cursor: pointer;\n",
              "      display: none;\n",
              "      fill: #1967D2;\n",
              "      height: 32px;\n",
              "      padding: 0 0 0 0;\n",
              "      width: 32px;\n",
              "    }\n",
              "\n",
              "    .colab-df-convert:hover {\n",
              "      background-color: #E2EBFA;\n",
              "      box-shadow: 0px 1px 2px rgba(60, 64, 67, 0.3), 0px 1px 3px 1px rgba(60, 64, 67, 0.15);\n",
              "      fill: #174EA6;\n",
              "    }\n",
              "\n",
              "    [theme=dark] .colab-df-convert {\n",
              "      background-color: #3B4455;\n",
              "      fill: #D2E3FC;\n",
              "    }\n",
              "\n",
              "    [theme=dark] .colab-df-convert:hover {\n",
              "      background-color: #434B5C;\n",
              "      box-shadow: 0px 1px 3px 1px rgba(0, 0, 0, 0.15);\n",
              "      filter: drop-shadow(0px 1px 2px rgba(0, 0, 0, 0.3));\n",
              "      fill: #FFFFFF;\n",
              "    }\n",
              "  </style>\n",
              "\n",
              "      <script>\n",
              "        const buttonEl =\n",
              "          document.querySelector('#df-30f8206c-45e2-47f9-a4be-444c236f888c button.colab-df-convert');\n",
              "        buttonEl.style.display =\n",
              "          google.colab.kernel.accessAllowed ? 'block' : 'none';\n",
              "\n",
              "        async function convertToInteractive(key) {\n",
              "          const element = document.querySelector('#df-30f8206c-45e2-47f9-a4be-444c236f888c');\n",
              "          const dataTable =\n",
              "            await google.colab.kernel.invokeFunction('convertToInteractive',\n",
              "                                                     [key], {});\n",
              "          if (!dataTable) return;\n",
              "\n",
              "          const docLinkHtml = 'Like what you see? Visit the ' +\n",
              "            '<a target=\"_blank\" href=https://colab.research.google.com/notebooks/data_table.ipynb>data table notebook</a>'\n",
              "            + ' to learn more about interactive tables.';\n",
              "          element.innerHTML = '';\n",
              "          dataTable['output_type'] = 'display_data';\n",
              "          await google.colab.output.renderOutput(dataTable, element);\n",
              "          const docLink = document.createElement('div');\n",
              "          docLink.innerHTML = docLinkHtml;\n",
              "          element.appendChild(docLink);\n",
              "        }\n",
              "      </script>\n",
              "    </div>\n",
              "  </div>\n",
              "  "
            ]
          },
          "metadata": {},
          "execution_count": 73
        }
      ]
    },
    {
      "cell_type": "code",
      "source": [
        "df_dummy.columns"
      ],
      "metadata": {
        "colab": {
          "base_uri": "https://localhost:8080/"
        },
        "id": "uYgfzymDQ1W6",
        "outputId": "4f5b2ad1-cbd8-4378-9a7c-cceb972823b4"
      },
      "execution_count": 74,
      "outputs": [
        {
          "output_type": "execute_result",
          "data": {
            "text/plain": [
              "Index(['Price', 'Mileage', 'Trim', 'Cylinder', 'Liter', 'Doors', 'Cruise',\n",
              "       'Sound', 'Leather', 'Buick', 'Cadillac', 'Chevrolet', 'Pontiac', 'SAAB',\n",
              "       'Saturn', '9-2X AWD', '9_3', '9_3 HO', '9_5', '9_5 HO', 'AVEO',\n",
              "       'Bonneville', 'CST-V', 'CTS', 'Cavalier', 'Century', 'Classic',\n",
              "       'Cobalt', 'Corvette', 'Deville', 'G6', 'GTO', 'Grand Am', 'Grand Prix',\n",
              "       'Impala', 'Ion', 'L Series', 'Lacrosse', 'Lesabre', 'Malibu',\n",
              "       'Monte Carlo', 'Park Avenue', 'STS-V6', 'STS-V8', 'Sunfire', 'Vibe',\n",
              "       'XLR-V8', 'Convertible', 'Coupe', 'Hatchback', 'Sedan', 'Wagon'],\n",
              "      dtype='object')"
            ]
          },
          "metadata": {},
          "execution_count": 74
        }
      ]
    },
    {
      "cell_type": "markdown",
      "source": [
        "**Finding the best combination of factors to predict price.**"
      ],
      "metadata": {
        "id": "SKl0D9_3Rnxj"
      }
    },
    {
      "cell_type": "code",
      "source": [
        "columns = list(df_make.columns)\n",
        "columns.extend(df_model.columns)\n",
        "columns.extend(df_type.columns)\n",
        "input_cols = []\n",
        "for item in columns:\n",
        "    input_cols.append([item])\n",
        "input_cols"
      ],
      "metadata": {
        "colab": {
          "base_uri": "https://localhost:8080/"
        },
        "id": "8YnhnplXQ3HB",
        "outputId": "165a98fd-c4e5-4cfe-cb77-4c01037246fe"
      },
      "execution_count": 75,
      "outputs": [
        {
          "output_type": "execute_result",
          "data": {
            "text/plain": [
              "[['Buick'],\n",
              " ['Cadillac'],\n",
              " ['Chevrolet'],\n",
              " ['Pontiac'],\n",
              " ['SAAB'],\n",
              " ['Saturn'],\n",
              " ['9-2X AWD'],\n",
              " ['9_3'],\n",
              " ['9_3 HO'],\n",
              " ['9_5'],\n",
              " ['9_5 HO'],\n",
              " ['AVEO'],\n",
              " ['Bonneville'],\n",
              " ['CST-V'],\n",
              " ['CTS'],\n",
              " ['Cavalier'],\n",
              " ['Century'],\n",
              " ['Classic'],\n",
              " ['Cobalt'],\n",
              " ['Corvette'],\n",
              " ['Deville'],\n",
              " ['G6'],\n",
              " ['GTO'],\n",
              " ['Grand Am'],\n",
              " ['Grand Prix'],\n",
              " ['Impala'],\n",
              " ['Ion'],\n",
              " ['L Series'],\n",
              " ['Lacrosse'],\n",
              " ['Lesabre'],\n",
              " ['Malibu'],\n",
              " ['Monte Carlo'],\n",
              " ['Park Avenue'],\n",
              " ['STS-V6'],\n",
              " ['STS-V8'],\n",
              " ['Sunfire'],\n",
              " ['Vibe'],\n",
              " ['XLR-V8'],\n",
              " ['Convertible'],\n",
              " ['Coupe'],\n",
              " ['Hatchback'],\n",
              " ['Sedan'],\n",
              " ['Wagon']]"
            ]
          },
          "metadata": {},
          "execution_count": 75
        }
      ]
    },
    {
      "cell_type": "code",
      "source": [
        "features = ['Mileage','Cylinder','Liter', 'Doors', 'Cruise', 'Sound', 'Leather']\n",
        "combo_twos = list(it.combinations(features, 2))\n",
        "combo_twos_list = [[x[0], x[1]] for x in combo_twos]\n",
        "combo_twos_list"
      ],
      "metadata": {
        "colab": {
          "base_uri": "https://localhost:8080/"
        },
        "id": "DDnKSjwqT4Cd",
        "outputId": "29792cfc-3214-4a71-8830-0b2b7a3cc79a"
      },
      "execution_count": 76,
      "outputs": [
        {
          "output_type": "execute_result",
          "data": {
            "text/plain": [
              "[['Mileage', 'Cylinder'],\n",
              " ['Mileage', 'Liter'],\n",
              " ['Mileage', 'Doors'],\n",
              " ['Mileage', 'Cruise'],\n",
              " ['Mileage', 'Sound'],\n",
              " ['Mileage', 'Leather'],\n",
              " ['Cylinder', 'Liter'],\n",
              " ['Cylinder', 'Doors'],\n",
              " ['Cylinder', 'Cruise'],\n",
              " ['Cylinder', 'Sound'],\n",
              " ['Cylinder', 'Leather'],\n",
              " ['Liter', 'Doors'],\n",
              " ['Liter', 'Cruise'],\n",
              " ['Liter', 'Sound'],\n",
              " ['Liter', 'Leather'],\n",
              " ['Doors', 'Cruise'],\n",
              " ['Doors', 'Sound'],\n",
              " ['Doors', 'Leather'],\n",
              " ['Cruise', 'Sound'],\n",
              " ['Cruise', 'Leather'],\n",
              " ['Sound', 'Leather']]"
            ]
          },
          "metadata": {},
          "execution_count": 76
        }
      ]
    },
    {
      "cell_type": "code",
      "source": [
        "from copy import deepcopy\n",
        "def all_combos_plus_scores(combos, combo_addition, df_dummy, focus='Price'):\n",
        "    scores = {}\n",
        "    for c_a in combo_addition:\n",
        "        combos_c = deepcopy(combos)\n",
        "        for cb in combos_c:\n",
        "            cb.extend(c_a)\n",
        "            scores[(cb[0], cb[1], cb[2])] = lin_r2(cb, df_dummy, focus)\n",
        "    return scores"
      ],
      "metadata": {
        "id": "4WIqwsAlT838"
      },
      "execution_count": 78,
      "outputs": []
    },
    {
      "cell_type": "code",
      "source": [
        "car_data_combos = all_combos_plus_scores(combo_twos_list, input_cols,df_dummy )\n",
        "car_data_combos_list = sorted(car_data_combos.items(), key=lambda c: c[1], reverse=True)\n",
        "max_dict = {}\n",
        "for score_ in car_data_combos_list:\n",
        "    try:\n",
        "        max_dict[score_[0][2]]\n",
        "    except:\n",
        "        max_dict[score_[0][2]] = score_[1]\n",
        "        print(score_[1], score_[0])\n",
        "\n"
      ],
      "metadata": {
        "colab": {
          "base_uri": "https://localhost:8080/"
        },
        "id": "bBlqTzDvUH7P",
        "outputId": "981cf5d0-3851-47bc-ee36-a59ab677c246"
      },
      "execution_count": 79,
      "outputs": [
        {
          "output_type": "stream",
          "name": "stdout",
          "text": [
            "0.6952326188089184 ('Mileage', 'Cylinder', 'SAAB')\n",
            "0.5827463723115367 ('Liter', 'Cruise', 'Cadillac')\n",
            "0.5818864330871814 ('Cylinder', 'Cruise', 'Convertible')\n",
            "0.5565646069943804 ('Cylinder', 'Doors', 'Coupe')\n",
            "0.5183767328460664 ('Liter', 'Cruise', 'XLR-V8')\n",
            "0.467700799707776 ('Cylinder', 'Cruise', '9_3 HO')\n",
            "0.46131412749530276 ('Cylinder', 'Doors', 'Chevrolet')\n",
            "0.4403137783141914 ('Cylinder', 'Cruise', '9_5')\n",
            "0.42327964442945476 ('Cylinder', 'Cruise', 'Pontiac')\n",
            "0.4209127935020318 ('Cylinder', 'Cruise', 'Wagon')\n",
            "0.41425766320268764 ('Cylinder', 'Cruise', '9_3')\n",
            "0.409490813455742 ('Cylinder', 'Cruise', '9_5 HO')\n",
            "0.40853637029735634 ('Cylinder', 'Cruise', 'Sedan')\n",
            "0.40801434993536756 ('Cylinder', 'Cruise', 'Buick')\n",
            "0.4066332114627611 ('Cylinder', 'Cruise', 'CST-V')\n",
            "0.4061981380211487 ('Cylinder', 'Cruise', 'Grand Prix')\n",
            "0.4039216683852761 ('Cylinder', 'Cruise', 'Malibu')\n",
            "0.4028424051921041 ('Cylinder', 'Cruise', 'STS-V6')\n",
            "0.40241000428897733 ('Cylinder', 'Cruise', 'Bonneville')\n",
            "0.4000437244670154 ('Cylinder', 'Cruise', 'STS-V8')\n",
            "0.398421412936275 ('Cylinder', 'Cruise', 'Corvette')\n",
            "0.3983887187658711 ('Cylinder', 'Cruise', 'AVEO')\n",
            "0.3971171080018443 ('Cylinder', 'Cruise', 'Hatchback')\n",
            "0.39603239888509245 ('Cylinder', 'Cruise', 'Monte Carlo')\n",
            "0.3956764388041559 ('Cylinder', 'Cruise', 'Impala')\n",
            "0.3952228755517404 ('Cylinder', 'Cruise', 'Century')\n",
            "0.39390560365869576 ('Cylinder', 'Cruise', 'L Series')\n",
            "0.39279238337721234 ('Cylinder', 'Cruise', 'Cavalier')\n",
            "0.39246844285202553 ('Cylinder', 'Cruise', 'Lesabre')\n",
            "0.39241204113961736 ('Cylinder', 'Cruise', 'G6')\n",
            "0.39198203662200237 ('Cylinder', 'Cruise', 'Deville')\n",
            "0.3911870776515759 ('Cylinder', 'Cruise', 'Lacrosse')\n",
            "0.3888935871374647 ('Cylinder', 'Cruise', 'Saturn')\n",
            "0.3873857443756109 ('Cylinder', 'Cruise', 'CTS')\n",
            "0.3860906791282612 ('Cylinder', 'Cruise', '9-2X AWD')\n",
            "0.38558472813361133 ('Cylinder', 'Cruise', 'Sunfire')\n",
            "0.38553761936177566 ('Cylinder', 'Cruise', 'Grand Am')\n",
            "0.3854757724638267 ('Cylinder', 'Cruise', 'Cobalt')\n",
            "0.3851417642289876 ('Cylinder', 'Cruise', 'GTO')\n",
            "0.38484791198079804 ('Cylinder', 'Cruise', 'Ion')\n",
            "0.38472021078824337 ('Cylinder', 'Cruise', 'Vibe')\n",
            "0.3844335361243536 ('Cylinder', 'Cruise', 'Classic')\n",
            "0.3843919122029714 ('Cylinder', 'Cruise', 'Park Avenue')\n"
          ]
        }
      ]
    },
    {
      "cell_type": "markdown",
      "source": [
        "**Above are the dominant two feature factors for each of the dummy variables; Cylinder and Cruise are the leading factors in the vast majority.**"
      ],
      "metadata": {
        "id": "e0U_A7HuX1xH"
      }
    },
    {
      "cell_type": "markdown",
      "source": [
        "**R2 SCORE of each dummy variable**"
      ],
      "metadata": {
        "id": "QCWqzCxuX4Qe"
      }
    },
    {
      "cell_type": "code",
      "source": [
        "car_data_2 = {}\n",
        "for item in deepcopy(input_cols):\n",
        "    car_data_2[item[0]] = lin_r2(item, df_dummy)\n",
        "\n",
        "score_list2 = sorted(car_data_2.items(), key=lambda c: c[1], reverse=True)\n",
        "for score in score_list2:\n",
        "    print(score[1], score[0])"
      ],
      "metadata": {
        "colab": {
          "base_uri": "https://localhost:8080/"
        },
        "id": "aE_n1JVJX1lY",
        "outputId": "7b9abef2-e56a-4b6c-dfcd-b3bb64477106"
      },
      "execution_count": 80,
      "outputs": [
        {
          "output_type": "stream",
          "name": "stdout",
          "text": [
            "0.43467222055774146 Cadillac\n",
            "0.2580823726662361 Convertible\n",
            "0.22329254532193288 XLR-V8\n",
            "0.16369972777296582 Chevrolet\n",
            "0.11249608486981633 SAAB\n",
            "0.09268208373129971 AVEO\n",
            "0.08811897712425065 Deville\n",
            "0.08294059063514281 Corvette\n",
            "0.07236606185907579 CST-V\n",
            "0.060443061923161845 STS-V8\n",
            "0.059386315780149745 Cavalier\n",
            "0.04481729286980152 Saturn\n",
            "0.044294927303921816 9_3 HO\n",
            "0.042509414286992286 Hatchback\n",
            "0.04218076819132699 Ion\n",
            "0.03711188670126875 Cobalt\n",
            "0.0331684123827396 STS-V6\n",
            "0.02992939459223687 9_5\n",
            "0.028253210000207085 Coupe\n",
            "0.020191011838045725 Pontiac\n",
            "0.01551727999156971 9_3\n",
            "0.01441266225511073 Malibu\n",
            "0.012235997496740647 9_5 HO\n",
            "0.011848005294655573 Vibe\n",
            "0.010715368384112356 CTS\n",
            "0.00990383596925093 Sunfire\n",
            "0.008683138908399224 Grand Am\n",
            "0.007825848896145682 GTO\n",
            "0.007741907120061953 Classic\n",
            "0.004735027107433676 Grand Prix\n",
            "0.003698911729677512 Century\n",
            "0.0029638255654020895 L Series\n",
            "0.0020370652981834825 Wagon\n",
            "0.001866756188844798 Park Avenue\n",
            "0.001211196934485459 Sedan\n",
            "0.0008950546441520713 Monte Carlo\n",
            "0.0008009183526633823 Impala\n",
            "0.00076410284018813 Lesabre\n",
            "0.0007473731721009402 G6\n",
            "0.0006705949575458447 9-2X AWD\n",
            "0.0003156955904867198 Buick\n",
            "7.927732740453663e-05 Bonneville\n",
            "2.795124819021666e-05 Lacrosse\n"
          ]
        }
      ]
    },
    {
      "cell_type": "markdown",
      "source": [],
      "metadata": {
        "id": "wkoREkDkYGl0"
      }
    },
    {
      "cell_type": "code",
      "source": [
        "f = features + ['Cadillac', 'Convertible', 'XLR-V8']\n",
        "lin_r2(f, df_dummy)"
      ],
      "metadata": {
        "colab": {
          "base_uri": "https://localhost:8080/"
        },
        "id": "2lbWjPTUYHDM",
        "outputId": "80f6b730-fd75-4e34-9346-7c0020897e23"
      },
      "execution_count": 81,
      "outputs": [
        {
          "output_type": "execute_result",
          "data": {
            "text/plain": [
              "0.8205076058696161"
            ]
          },
          "metadata": {},
          "execution_count": 81
        }
      ]
    },
    {
      "cell_type": "markdown",
      "source": [
        "**We are taking the best three R2 score dummy variables Cadillac, Convertible,XLR-V8 into account and find the model R2 score**"
      ],
      "metadata": {
        "id": "xyJ2tyeoYKwH"
      }
    },
    {
      "cell_type": "markdown",
      "source": [
        "**These three factors are enough to consider the model as a good model.**"
      ],
      "metadata": {
        "id": "vtdyKFBdYesJ"
      }
    },
    {
      "cell_type": "code",
      "source": [
        "#If we take Cadillac, Convertible,Chevrolet as features then R2 will be\n",
        "f = features + ['Cadillac', 'Convertible', 'Chevrolet']\n",
        "lin_r2(f, df_dummy)"
      ],
      "metadata": {
        "colab": {
          "base_uri": "https://localhost:8080/"
        },
        "id": "b8Uhqo9gYLLM",
        "outputId": "4d81e874-7626-4f64-b5c9-89446e233847"
      },
      "execution_count": 82,
      "outputs": [
        {
          "output_type": "execute_result",
          "data": {
            "text/plain": [
              "0.8301641680699673"
            ]
          },
          "metadata": {},
          "execution_count": 82
        }
      ]
    },
    {
      "cell_type": "code",
      "source": [
        "f = ['Cadillac', 'Convertible', 'Chevrolet', 'Mileage', 'Cylinder', 'Cruise', 'Liter']\n",
        "lin_r2(f,df_dummy)"
      ],
      "metadata": {
        "colab": {
          "base_uri": "https://localhost:8080/"
        },
        "id": "K-7Q5cTsYNhN",
        "outputId": "b6750814-e24a-4471-ff7c-0d2be1c663c6"
      },
      "execution_count": 83,
      "outputs": [
        {
          "output_type": "execute_result",
          "data": {
            "text/plain": [
              "0.8230830294947846"
            ]
          },
          "metadata": {},
          "execution_count": 83
        }
      ]
    },
    {
      "cell_type": "markdown",
      "source": [
        "**So we can conclude that the three factors from Model,Make and Type needs to be considered along other numerical features to get the best model with a R2 score of 0.823**"
      ],
      "metadata": {
        "id": "AbHUPtEbYPqW"
      }
    }
  ],
  "metadata": {
    "kernelspec": {
      "display_name": "Python 3",
      "language": "python",
      "name": "python3"
    },
    "language_info": {
      "codemirror_mode": {
        "name": "ipython",
        "version": 3
      },
      "file_extension": ".py",
      "mimetype": "text/x-python",
      "name": "python",
      "nbconvert_exporter": "python",
      "pygments_lexer": "ipython3",
      "version": "3.8.3"
    },
    "colab": {
      "provenance": [],
      "include_colab_link": true
    }
  },
  "nbformat": 4,
  "nbformat_minor": 0
}